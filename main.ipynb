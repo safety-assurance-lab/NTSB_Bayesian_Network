{
 "cells": [
  {
   "cell_type": "markdown",
   "metadata": {},
   "source": [
    "### Load accident data corresponding to far_part 121"
   ]
  },
  {
   "cell_type": "code",
   "execution_count": 90,
   "metadata": {},
   "outputs": [],
   "source": [
    "import pandas as pd\n",
    "import seaborn as sns\n",
    "import numpy as np\n",
    "import random\n",
    "\n",
    "import collections\n",
    "import matplotlib.pyplot as plt\n",
    "%matplotlib inline\n",
    "\n",
    "## New - With the implementation of eADMS in 2006, the \"Events_Sequence\" table will replace the \"Occurrences\"\n",
    "## table and the \"Findings\" table will replace the \"Seq_of_events\" table.\n",
    "\n",
    "Events_Sequence = pd.read_csv('Events_Sequence.txt', sep = '\\t')  ## eADMS coding for accidents after 2006\n",
    "aircraft = pd.read_excel('aircraft.xlsx')\n",
    "occurrences = pd.read_csv('Occurrences.txt', sep = ',')\n",
    "seq_of_events_ = pd.read_csv('seq_of_events.txt', sep = '\\t') ## pre eADMS coding for accidents before 2006\n",
    "\n",
    "narratives = pd.read_excel('narratives.xlsx')\n",
    "metaData = pd.read_excel('metaData.xlsx')\n",
    "events = pd.read_excel('events.xlsx')\n",
    "engines = pd.read_excel('engines.xlsx')\n",
    "injury = pd.read_excel('injury.xlsx')\n",
    "findings = pd.read_excel('findings.xlsx')"
   ]
  },
  {
   "cell_type": "markdown",
   "metadata": {},
   "source": [
    "#### show basic events info"
   ]
  },
  {
   "cell_type": "code",
   "execution_count": 92,
   "metadata": {},
   "outputs": [
    {
     "data": {
      "text/html": [
       "<div>\n",
       "<style scoped>\n",
       "    .dataframe tbody tr th:only-of-type {\n",
       "        vertical-align: middle;\n",
       "    }\n",
       "\n",
       "    .dataframe tbody tr th {\n",
       "        vertical-align: top;\n",
       "    }\n",
       "\n",
       "    .dataframe thead th {\n",
       "        text-align: right;\n",
       "    }\n",
       "</style>\n",
       "<table border=\"1\" class=\"dataframe\">\n",
       "  <thead>\n",
       "    <tr style=\"text-align: right;\">\n",
       "      <th></th>\n",
       "      <th>ev_id</th>\n",
       "      <th>ntsb_no</th>\n",
       "      <th>ev_type</th>\n",
       "      <th>ev_date</th>\n",
       "      <th>ev_dow</th>\n",
       "      <th>ev_time</th>\n",
       "      <th>ev_tmzn</th>\n",
       "      <th>ev_city</th>\n",
       "      <th>ev_state</th>\n",
       "      <th>ev_country</th>\n",
       "      <th>...</th>\n",
       "      <th>invest_agy</th>\n",
       "      <th>ntsb_docket</th>\n",
       "      <th>ntsb_notf_from</th>\n",
       "      <th>ntsb_notf_date</th>\n",
       "      <th>ntsb_notf_tm</th>\n",
       "      <th>fiche_number</th>\n",
       "      <th>lchg_date</th>\n",
       "      <th>lchg_userid</th>\n",
       "      <th>wx_cond_basic</th>\n",
       "      <th>faa_dist_office</th>\n",
       "    </tr>\n",
       "  </thead>\n",
       "  <tbody>\n",
       "    <tr>\n",
       "      <th>985</th>\n",
       "      <td>20001208X06203</td>\n",
       "      <td>DCA96MA068</td>\n",
       "      <td>ACC</td>\n",
       "      <td>1996-07-06</td>\n",
       "      <td>Sa</td>\n",
       "      <td>1424.0</td>\n",
       "      <td>CDT</td>\n",
       "      <td>PENSACOLA</td>\n",
       "      <td>FL</td>\n",
       "      <td>USA</td>\n",
       "      <td>...</td>\n",
       "      <td>N</td>\n",
       "      <td>1696.0</td>\n",
       "      <td>NaN</td>\n",
       "      <td>1996-07-06</td>\n",
       "      <td>0.0</td>\n",
       "      <td>IMAGE</td>\n",
       "      <td>2019-06-06 16:04:47.680</td>\n",
       "      <td>broda</td>\n",
       "      <td>VMC</td>\n",
       "      <td>NaN</td>\n",
       "    </tr>\n",
       "  </tbody>\n",
       "</table>\n",
       "<p>1 rows × 71 columns</p>\n",
       "</div>"
      ],
      "text/plain": [
       "              ev_id     ntsb_no ev_type    ev_date ev_dow  ev_time ev_tmzn  \\\n",
       "985  20001208X06203  DCA96MA068     ACC 1996-07-06     Sa   1424.0     CDT   \n",
       "\n",
       "       ev_city ev_state ev_country  ... invest_agy  ntsb_docket  \\\n",
       "985  PENSACOLA       FL        USA  ...          N       1696.0   \n",
       "\n",
       "     ntsb_notf_from ntsb_notf_date ntsb_notf_tm fiche_number  \\\n",
       "985             NaN     1996-07-06          0.0        IMAGE   \n",
       "\n",
       "                  lchg_date lchg_userid wx_cond_basic faa_dist_office  \n",
       "985 2019-06-06 16:04:47.680       broda           VMC             NaN  \n",
       "\n",
       "[1 rows x 71 columns]"
      ]
     },
     "execution_count": 92,
     "metadata": {},
     "output_type": "execute_result"
    }
   ],
   "source": [
    "events[events['ev_id']=='20001208X06203']"
   ]
  },
  {
   "cell_type": "markdown",
   "metadata": {},
   "source": [
    "#### show event sequences"
   ]
  },
  {
   "cell_type": "code",
   "execution_count": 93,
   "metadata": {},
   "outputs": [
    {
     "data": {
      "text/html": [
       "<div>\n",
       "<style scoped>\n",
       "    .dataframe tbody tr th:only-of-type {\n",
       "        vertical-align: middle;\n",
       "    }\n",
       "\n",
       "    .dataframe tbody tr th {\n",
       "        vertical-align: top;\n",
       "    }\n",
       "\n",
       "    .dataframe thead th {\n",
       "        text-align: right;\n",
       "    }\n",
       "</style>\n",
       "<table border=\"1\" class=\"dataframe\">\n",
       "  <thead>\n",
       "    <tr style=\"text-align: right;\">\n",
       "      <th></th>\n",
       "      <th>ev_id</th>\n",
       "      <th>Aircraft_Key</th>\n",
       "      <th>Occurrence_No</th>\n",
       "      <th>Occurrence_Code</th>\n",
       "      <th>Occurrence_Description</th>\n",
       "      <th>phase_no</th>\n",
       "      <th>eventsoe_no</th>\n",
       "      <th>Defining_ev</th>\n",
       "      <th>lchg_date</th>\n",
       "      <th>lchg_userid</th>\n",
       "    </tr>\n",
       "  </thead>\n",
       "  <tbody>\n",
       "    <tr>\n",
       "      <th>0</th>\n",
       "      <td>20001208X08803</td>\n",
       "      <td>1</td>\n",
       "      <td>3</td>\n",
       "      <td>400240</td>\n",
       "      <td>Enroute - Loss of control in flight</td>\n",
       "      <td>400</td>\n",
       "      <td>240</td>\n",
       "      <td>1</td>\n",
       "      <td>5/13/2019 14:50:49</td>\n",
       "      <td>bowl</td>\n",
       "    </tr>\n",
       "  </tbody>\n",
       "</table>\n",
       "</div>"
      ],
      "text/plain": [
       "            ev_id  Aircraft_Key  Occurrence_No  Occurrence_Code  \\\n",
       "0  20001208X08803             1              3           400240   \n",
       "\n",
       "                Occurrence_Description  phase_no  eventsoe_no  Defining_ev  \\\n",
       "0  Enroute - Loss of control in flight       400          240            1   \n",
       "\n",
       "            lchg_date lchg_userid  \n",
       "0  5/13/2019 14:50:49        bowl  "
      ]
     },
     "execution_count": 93,
     "metadata": {},
     "output_type": "execute_result"
    }
   ],
   "source": [
    "Events_Sequence[Events_Sequence['ev_id'] == '20001208X08803']"
   ]
  },
  {
   "cell_type": "code",
   "execution_count": 94,
   "metadata": {},
   "outputs": [
    {
     "name": "stdout",
     "output_type": "stream",
     "text": [
      "The values of cause_factor are {nan, '2', 'D', 'F', 'f', 'X', 'C', '1', ' ', 'c'}\n"
     ]
    }
   ],
   "source": [
    "print ('The values of cause_factor are', set(seq_of_events_['Cause_Factor'].values))"
   ]
  },
  {
   "cell_type": "markdown",
   "metadata": {},
   "source": [
    "#### Process the values of cause_factor"
   ]
  },
  {
   "cell_type": "code",
   "execution_count": 95,
   "metadata": {},
   "outputs": [
    {
     "data": {
      "text/html": [
       "<div>\n",
       "<style scoped>\n",
       "    .dataframe tbody tr th:only-of-type {\n",
       "        vertical-align: middle;\n",
       "    }\n",
       "\n",
       "    .dataframe tbody tr th {\n",
       "        vertical-align: top;\n",
       "    }\n",
       "\n",
       "    .dataframe thead th {\n",
       "        text-align: right;\n",
       "    }\n",
       "</style>\n",
       "<table border=\"1\" class=\"dataframe\">\n",
       "  <thead>\n",
       "    <tr style=\"text-align: right;\">\n",
       "      <th></th>\n",
       "      <th>ev_id</th>\n",
       "      <th>Aircraft_Key</th>\n",
       "      <th>Occurrence_No</th>\n",
       "      <th>seq_event_no</th>\n",
       "      <th>group_code</th>\n",
       "      <th>Subj_Code</th>\n",
       "      <th>Cause_Factor</th>\n",
       "      <th>Modifier_Code</th>\n",
       "      <th>Person_Code</th>\n",
       "      <th>lchg_date</th>\n",
       "      <th>lchg_userid</th>\n",
       "    </tr>\n",
       "  </thead>\n",
       "  <tbody>\n",
       "    <tr>\n",
       "      <th>58266</th>\n",
       "      <td>20001213X34629</td>\n",
       "      <td>1</td>\n",
       "      <td>2</td>\n",
       "      <td>1</td>\n",
       "      <td>2</td>\n",
       "      <td>24500</td>\n",
       "      <td>X</td>\n",
       "      <td>3131</td>\n",
       "      <td>4000.0</td>\n",
       "      <td>12/13/2000 16:58:22</td>\n",
       "      <td>dbo</td>\n",
       "    </tr>\n",
       "    <tr>\n",
       "      <th>76321</th>\n",
       "      <td>20001213X31660</td>\n",
       "      <td>1</td>\n",
       "      <td>1</td>\n",
       "      <td>2</td>\n",
       "      <td>2</td>\n",
       "      <td>24539</td>\n",
       "      <td>X</td>\n",
       "      <td>3131</td>\n",
       "      <td>4000.0</td>\n",
       "      <td>12/13/2000 14:40:01</td>\n",
       "      <td>dbo</td>\n",
       "    </tr>\n",
       "    <tr>\n",
       "      <th>103128</th>\n",
       "      <td>20001214X37504</td>\n",
       "      <td>1</td>\n",
       "      <td>4</td>\n",
       "      <td>1</td>\n",
       "      <td>1</td>\n",
       "      <td>20200</td>\n",
       "      <td>X</td>\n",
       "      <td>2511</td>\n",
       "      <td>0.0</td>\n",
       "      <td>12/14/2000 13:05:05</td>\n",
       "      <td>dbo</td>\n",
       "    </tr>\n",
       "    <tr>\n",
       "      <th>168019</th>\n",
       "      <td>20001213X33849</td>\n",
       "      <td>1</td>\n",
       "      <td>2</td>\n",
       "      <td>1</td>\n",
       "      <td>2</td>\n",
       "      <td>24551</td>\n",
       "      <td>X</td>\n",
       "      <td>3113</td>\n",
       "      <td>4000.0</td>\n",
       "      <td>12/13/2000 16:13:55</td>\n",
       "      <td>dbo</td>\n",
       "    </tr>\n",
       "    <tr>\n",
       "      <th>197452</th>\n",
       "      <td>20001214X39233</td>\n",
       "      <td>1</td>\n",
       "      <td>2</td>\n",
       "      <td>3</td>\n",
       "      <td>1</td>\n",
       "      <td>20000</td>\n",
       "      <td>X</td>\n",
       "      <td>2207</td>\n",
       "      <td>0.0</td>\n",
       "      <td>12/14/2000 14:24:49</td>\n",
       "      <td>dbo</td>\n",
       "    </tr>\n",
       "    <tr>\n",
       "      <th>239753</th>\n",
       "      <td>20001211X15049</td>\n",
       "      <td>1</td>\n",
       "      <td>1</td>\n",
       "      <td>2</td>\n",
       "      <td>2</td>\n",
       "      <td>24551</td>\n",
       "      <td>X</td>\n",
       "      <td>3113</td>\n",
       "      <td>4000.0</td>\n",
       "      <td>12/11/2000 15:07:06</td>\n",
       "      <td>dbo</td>\n",
       "    </tr>\n",
       "  </tbody>\n",
       "</table>\n",
       "</div>"
      ],
      "text/plain": [
       "                 ev_id  Aircraft_Key  Occurrence_No  seq_event_no  group_code  \\\n",
       "58266   20001213X34629             1              2             1           2   \n",
       "76321   20001213X31660             1              1             2           2   \n",
       "103128  20001214X37504             1              4             1           1   \n",
       "168019  20001213X33849             1              2             1           2   \n",
       "197452  20001214X39233             1              2             3           1   \n",
       "239753  20001211X15049             1              1             2           2   \n",
       "\n",
       "        Subj_Code Cause_Factor  Modifier_Code  Person_Code  \\\n",
       "58266       24500            X           3131       4000.0   \n",
       "76321       24539            X           3131       4000.0   \n",
       "103128      20200            X           2511          0.0   \n",
       "168019      24551            X           3113       4000.0   \n",
       "197452      20000            X           2207          0.0   \n",
       "239753      24551            X           3113       4000.0   \n",
       "\n",
       "                  lchg_date         lchg_userid  \n",
       "58266   12/13/2000 16:58:22  dbo                 \n",
       "76321   12/13/2000 14:40:01  dbo                 \n",
       "103128  12/14/2000 13:05:05  dbo                 \n",
       "168019  12/13/2000 16:13:55  dbo                 \n",
       "197452  12/14/2000 14:24:49  dbo                 \n",
       "239753  12/11/2000 15:07:06  dbo                 "
      ]
     },
     "execution_count": 95,
     "metadata": {},
     "output_type": "execute_result"
    }
   ],
   "source": [
    "seq_of_events_[seq_of_events_['Cause_Factor'] == 'X']"
   ]
  },
  {
   "cell_type": "code",
   "execution_count": 96,
   "metadata": {},
   "outputs": [],
   "source": [
    "seq_of_events = seq_of_events_.dropna(axis = 0, subset =['Cause_Factor']).copy()"
   ]
  },
  {
   "cell_type": "code",
   "execution_count": 97,
   "metadata": {},
   "outputs": [],
   "source": [
    "seq_of_events.loc[seq_of_events.Cause_Factor == '1','Cause_Factor'] = 'C'\n",
    "seq_of_events.loc[seq_of_events.Cause_Factor == '2','Cause_Factor'] = 'F'\n",
    "seq_of_events.loc[seq_of_events.Cause_Factor == 'c','Cause_Factor'] = 'C'\n",
    "seq_of_events.loc[seq_of_events.Cause_Factor == 'f','Cause_Factor'] = 'F'\n",
    "seq_of_events.loc[seq_of_events.Cause_Factor == 'D','Cause_Factor'] = 'C'\n",
    "seq_of_events.loc[seq_of_events.Cause_Factor == 'X','Cause_Factor'] = 'F'\n",
    "\n",
    "indexes = seq_of_events[seq_of_events['Cause_Factor'] == ' '].index\n",
    "seq_of_events.drop(indexes, inplace = True)"
   ]
  },
  {
   "cell_type": "code",
   "execution_count": 98,
   "metadata": {},
   "outputs": [
    {
     "data": {
      "text/plain": [
       "{'C', 'F'}"
      ]
     },
     "execution_count": 98,
     "metadata": {},
     "output_type": "execute_result"
    }
   ],
   "source": [
    "set(seq_of_events['Cause_Factor'].values)"
   ]
  },
  {
   "cell_type": "code",
   "execution_count": 99,
   "metadata": {},
   "outputs": [],
   "source": [
    "metaData['code_iaids'] = metaData['code_iaids'].astype(str)\n",
    "indices = seq_of_events[seq_of_events['Subj_Code'] == 0].index\n",
    "seq_of_events.drop(indices, inplace = True)"
   ]
  },
  {
   "cell_type": "markdown",
   "metadata": {},
   "source": [
    "### Accident Statistical Summary"
   ]
  },
  {
   "cell_type": "markdown",
   "metadata": {},
   "source": [
    "#### Total number of accidents in far_part 121"
   ]
  },
  {
   "cell_type": "code",
   "execution_count": 207,
   "metadata": {},
   "outputs": [
    {
     "name": "stdout",
     "output_type": "stream",
     "text": [
      "There are 2243 accidents in NTSB database with far_part equal to 121\n",
      "The date of the accident data ranges from 1982 to 2019\n"
     ]
    }
   ],
   "source": [
    "ev_ID = aircraft['ev_id'].values.tolist()\n",
    "\n",
    "## Remove duplicated event IDs\n",
    "ev_ID = list(set(ev_ID))\n",
    "\n",
    "print ('There are {} accidents in NTSB database with far_part equal to 121'.format(len(ev_ID)))\n",
    "print ('The date of the accident data ranges from {} to {}'.format(min(events['ev_year'].values), \n",
    "                                                                   max(events['ev_year'].values)))"
   ]
  },
  {
   "cell_type": "code",
   "execution_count": 208,
   "metadata": {},
   "outputs": [
    {
     "name": "stdout",
     "output_type": "stream",
     "text": [
      "There are 1742 accidents from 1982 to 2006\n"
     ]
    }
   ],
   "source": [
    "print (\"There are {} accidents from 1982 to 2006\".format(len(set(events[events['ev_year'] <= 2006]['ev_id']))))"
   ]
  },
  {
   "cell_type": "markdown",
   "metadata": {},
   "source": [
    "#### Basic statistics on personnel injury and aircraft damage"
   ]
  },
  {
   "cell_type": "code",
   "execution_count": 215,
   "metadata": {},
   "outputs": [],
   "source": [
    "events_part = events[events['ev_id'].isin(ev_ID)]"
   ]
  },
  {
   "cell_type": "code",
   "execution_count": 216,
   "metadata": {},
   "outputs": [],
   "source": [
    "events_part['ev_highest_injury'].fillna('Not Reported', inplace = True)"
   ]
  },
  {
   "cell_type": "code",
   "execution_count": 217,
   "metadata": {},
   "outputs": [],
   "source": [
    "from itertools import product\n",
    "combs = pd.DataFrame(list(product(set(events_part['ev_year'].values), set(events_part['ev_highest_injury'].values))), \n",
    "                     columns=['ev_year', 'ev_highest_injury'])"
   ]
  },
  {
   "cell_type": "code",
   "execution_count": 218,
   "metadata": {},
   "outputs": [
    {
     "data": {
      "text/html": [
       "<div>\n",
       "<style scoped>\n",
       "    .dataframe tbody tr th:only-of-type {\n",
       "        vertical-align: middle;\n",
       "    }\n",
       "\n",
       "    .dataframe tbody tr th {\n",
       "        vertical-align: top;\n",
       "    }\n",
       "\n",
       "    .dataframe thead th {\n",
       "        text-align: right;\n",
       "    }\n",
       "</style>\n",
       "<table border=\"1\" class=\"dataframe\">\n",
       "  <thead>\n",
       "    <tr style=\"text-align: right;\">\n",
       "      <th></th>\n",
       "      <th>ev_year</th>\n",
       "      <th>ev_highest_injury</th>\n",
       "      <th>count</th>\n",
       "    </tr>\n",
       "  </thead>\n",
       "  <tbody>\n",
       "    <tr>\n",
       "      <th>0</th>\n",
       "      <td>1982</td>\n",
       "      <td>FATL</td>\n",
       "      <td>5</td>\n",
       "    </tr>\n",
       "    <tr>\n",
       "      <th>1</th>\n",
       "      <td>1982</td>\n",
       "      <td>MINR</td>\n",
       "      <td>5</td>\n",
       "    </tr>\n",
       "    <tr>\n",
       "      <th>2</th>\n",
       "      <td>1982</td>\n",
       "      <td>NONE</td>\n",
       "      <td>27</td>\n",
       "    </tr>\n",
       "    <tr>\n",
       "      <th>3</th>\n",
       "      <td>1982</td>\n",
       "      <td>SERS</td>\n",
       "      <td>8</td>\n",
       "    </tr>\n",
       "    <tr>\n",
       "      <th>4</th>\n",
       "      <td>1983</td>\n",
       "      <td>FATL</td>\n",
       "      <td>4</td>\n",
       "    </tr>\n",
       "    <tr>\n",
       "      <th>...</th>\n",
       "      <td>...</td>\n",
       "      <td>...</td>\n",
       "      <td>...</td>\n",
       "    </tr>\n",
       "    <tr>\n",
       "      <th>167</th>\n",
       "      <td>2019</td>\n",
       "      <td>FATL</td>\n",
       "      <td>1</td>\n",
       "    </tr>\n",
       "    <tr>\n",
       "      <th>168</th>\n",
       "      <td>2019</td>\n",
       "      <td>MINR</td>\n",
       "      <td>2</td>\n",
       "    </tr>\n",
       "    <tr>\n",
       "      <th>169</th>\n",
       "      <td>2019</td>\n",
       "      <td>Not Reported</td>\n",
       "      <td>4</td>\n",
       "    </tr>\n",
       "    <tr>\n",
       "      <th>170</th>\n",
       "      <td>2019</td>\n",
       "      <td>SERS</td>\n",
       "      <td>2</td>\n",
       "    </tr>\n",
       "    <tr>\n",
       "      <th>171</th>\n",
       "      <td>2019</td>\n",
       "      <td>UNKN</td>\n",
       "      <td>2</td>\n",
       "    </tr>\n",
       "  </tbody>\n",
       "</table>\n",
       "<p>172 rows × 3 columns</p>\n",
       "</div>"
      ],
      "text/plain": [
       "     ev_year ev_highest_injury  count\n",
       "0       1982              FATL      5\n",
       "1       1982              MINR      5\n",
       "2       1982              NONE     27\n",
       "3       1982              SERS      8\n",
       "4       1983              FATL      4\n",
       "..       ...               ...    ...\n",
       "167     2019              FATL      1\n",
       "168     2019              MINR      2\n",
       "169     2019      Not Reported      4\n",
       "170     2019              SERS      2\n",
       "171     2019              UNKN      2\n",
       "\n",
       "[172 rows x 3 columns]"
      ]
     },
     "execution_count": 218,
     "metadata": {},
     "output_type": "execute_result"
    }
   ],
   "source": [
    "g = events_part.groupby(['ev_year','ev_highest_injury']).size().to_frame('count').reset_index()\n",
    "g"
   ]
  },
  {
   "cell_type": "code",
   "execution_count": 219,
   "metadata": {},
   "outputs": [],
   "source": [
    "result = g.merge(combs, how = 'right').fillna(0)"
   ]
  },
  {
   "cell_type": "code",
   "execution_count": 220,
   "metadata": {},
   "outputs": [],
   "source": [
    "FATL_res = result[result['ev_highest_injury'] == 'FATL'].sort_values(by=['ev_year'])\n",
    "MINR_res = result[result['ev_highest_injury'] == 'MINR'].sort_values(by=['ev_year'])\n",
    "NONE_res = result[result['ev_highest_injury'] == 'NONE'].sort_values(by=['ev_year'])\n",
    "SERS_res = result[result['ev_highest_injury'] == 'SERS'].sort_values(by=['ev_year'])\n",
    "UNKN_res = result[result['ev_highest_injury'] == 'UNKN'].sort_values(by=['ev_year'])\n",
    "No_Report_res = result[result['ev_highest_injury'] == 'Not Reported'].sort_values(by=['ev_year'])"
   ]
  },
  {
   "cell_type": "code",
   "execution_count": 221,
   "metadata": {},
   "outputs": [],
   "source": [
    "aircraft['damage'].fillna('Not Reported', inplace = True)"
   ]
  },
  {
   "cell_type": "code",
   "execution_count": 222,
   "metadata": {},
   "outputs": [],
   "source": [
    "aircraft['ev_year'] = aircraft['ev_id'].astype(str).str[:4]\n",
    "\n",
    "from itertools import product\n",
    "aicrftCombs = pd.DataFrame(list(product(set(aircraft['ev_year'].values), set(aircraft['damage'].values))), \n",
    "                     columns=['ev_year', 'damage'])\n",
    "\n",
    "aircraftDamage = aircraft['damage'].groupby([aircraft['ev_year'], aircraft['damage']]).size().to_frame('count').reset_index()\n",
    "\n",
    "aircraftResult = aircraftDamage.merge(aicrftCombs, how = 'right').fillna(0)"
   ]
  },
  {
   "cell_type": "code",
   "execution_count": 223,
   "metadata": {},
   "outputs": [
    {
     "data": {
      "text/html": [
       "<div>\n",
       "<style scoped>\n",
       "    .dataframe tbody tr th:only-of-type {\n",
       "        vertical-align: middle;\n",
       "    }\n",
       "\n",
       "    .dataframe tbody tr th {\n",
       "        vertical-align: top;\n",
       "    }\n",
       "\n",
       "    .dataframe thead th {\n",
       "        text-align: right;\n",
       "    }\n",
       "</style>\n",
       "<table border=\"1\" class=\"dataframe\">\n",
       "  <thead>\n",
       "    <tr style=\"text-align: right;\">\n",
       "      <th></th>\n",
       "      <th>ev_year</th>\n",
       "      <th>damage</th>\n",
       "      <th>count</th>\n",
       "    </tr>\n",
       "  </thead>\n",
       "  <tbody>\n",
       "    <tr>\n",
       "      <th>58</th>\n",
       "      <td>2015</td>\n",
       "      <td>MINR</td>\n",
       "      <td>6.0</td>\n",
       "    </tr>\n",
       "    <tr>\n",
       "      <th>59</th>\n",
       "      <td>2015</td>\n",
       "      <td>NONE</td>\n",
       "      <td>21.0</td>\n",
       "    </tr>\n",
       "    <tr>\n",
       "      <th>60</th>\n",
       "      <td>2015</td>\n",
       "      <td>Not Reported</td>\n",
       "      <td>1.0</td>\n",
       "    </tr>\n",
       "    <tr>\n",
       "      <th>61</th>\n",
       "      <td>2015</td>\n",
       "      <td>SUBS</td>\n",
       "      <td>7.0</td>\n",
       "    </tr>\n",
       "    <tr>\n",
       "      <th>78</th>\n",
       "      <td>2015</td>\n",
       "      <td>DEST</td>\n",
       "      <td>0.0</td>\n",
       "    </tr>\n",
       "    <tr>\n",
       "      <th>79</th>\n",
       "      <td>2015</td>\n",
       "      <td>UNK</td>\n",
       "      <td>0.0</td>\n",
       "    </tr>\n",
       "  </tbody>\n",
       "</table>\n",
       "</div>"
      ],
      "text/plain": [
       "   ev_year        damage  count\n",
       "58    2015          MINR    6.0\n",
       "59    2015          NONE   21.0\n",
       "60    2015  Not Reported    1.0\n",
       "61    2015          SUBS    7.0\n",
       "78    2015          DEST    0.0\n",
       "79    2015           UNK    0.0"
      ]
     },
     "execution_count": 223,
     "metadata": {},
     "output_type": "execute_result"
    }
   ],
   "source": [
    "aircraftResult[aircraftResult['ev_year'] == '2015']"
   ]
  },
  {
   "cell_type": "code",
   "execution_count": 224,
   "metadata": {},
   "outputs": [
    {
     "data": {
      "text/html": [
       "<div>\n",
       "<style scoped>\n",
       "    .dataframe tbody tr th:only-of-type {\n",
       "        vertical-align: middle;\n",
       "    }\n",
       "\n",
       "    .dataframe tbody tr th {\n",
       "        vertical-align: top;\n",
       "    }\n",
       "\n",
       "    .dataframe thead th {\n",
       "        text-align: right;\n",
       "    }\n",
       "</style>\n",
       "<table border=\"1\" class=\"dataframe\">\n",
       "  <thead>\n",
       "    <tr style=\"text-align: right;\">\n",
       "      <th></th>\n",
       "      <th>ev_year</th>\n",
       "      <th>damage</th>\n",
       "      <th>count</th>\n",
       "    </tr>\n",
       "  </thead>\n",
       "  <tbody>\n",
       "    <tr>\n",
       "      <th>0</th>\n",
       "      <td>2000</td>\n",
       "      <td>DEST</td>\n",
       "      <td>60.0</td>\n",
       "    </tr>\n",
       "    <tr>\n",
       "      <th>1</th>\n",
       "      <td>2000</td>\n",
       "      <td>MINR</td>\n",
       "      <td>472.0</td>\n",
       "    </tr>\n",
       "    <tr>\n",
       "      <th>2</th>\n",
       "      <td>2000</td>\n",
       "      <td>NONE</td>\n",
       "      <td>532.0</td>\n",
       "    </tr>\n",
       "    <tr>\n",
       "      <th>3</th>\n",
       "      <td>2000</td>\n",
       "      <td>SUBS</td>\n",
       "      <td>246.0</td>\n",
       "    </tr>\n",
       "    <tr>\n",
       "      <th>4</th>\n",
       "      <td>2000</td>\n",
       "      <td>UNK</td>\n",
       "      <td>1.0</td>\n",
       "    </tr>\n",
       "    <tr>\n",
       "      <th>116</th>\n",
       "      <td>2000</td>\n",
       "      <td>Not Reported</td>\n",
       "      <td>0.0</td>\n",
       "    </tr>\n",
       "  </tbody>\n",
       "</table>\n",
       "</div>"
      ],
      "text/plain": [
       "    ev_year        damage  count\n",
       "0      2000          DEST   60.0\n",
       "1      2000          MINR  472.0\n",
       "2      2000          NONE  532.0\n",
       "3      2000          SUBS  246.0\n",
       "4      2000           UNK    1.0\n",
       "116    2000  Not Reported    0.0"
      ]
     },
     "execution_count": 224,
     "metadata": {},
     "output_type": "execute_result"
    }
   ],
   "source": [
    "aircraftResult.loc[aircraftResult['ev_year'] == '2000']"
   ]
  },
  {
   "cell_type": "code",
   "execution_count": 225,
   "metadata": {},
   "outputs": [
    {
     "data": {
      "text/html": [
       "<div>\n",
       "<style scoped>\n",
       "    .dataframe tbody tr th:only-of-type {\n",
       "        vertical-align: middle;\n",
       "    }\n",
       "\n",
       "    .dataframe tbody tr th {\n",
       "        vertical-align: top;\n",
       "    }\n",
       "\n",
       "    .dataframe thead th {\n",
       "        text-align: right;\n",
       "    }\n",
       "</style>\n",
       "<table border=\"1\" class=\"dataframe\">\n",
       "  <thead>\n",
       "    <tr style=\"text-align: right;\">\n",
       "      <th></th>\n",
       "      <th>ev_year</th>\n",
       "      <th>damage</th>\n",
       "      <th>count</th>\n",
       "    </tr>\n",
       "  </thead>\n",
       "  <tbody>\n",
       "    <tr>\n",
       "      <th>0</th>\n",
       "      <td>2000</td>\n",
       "      <td>DEST</td>\n",
       "      <td>60.0</td>\n",
       "    </tr>\n",
       "    <tr>\n",
       "      <th>1</th>\n",
       "      <td>2000</td>\n",
       "      <td>MINR</td>\n",
       "      <td>472.0</td>\n",
       "    </tr>\n",
       "    <tr>\n",
       "      <th>2</th>\n",
       "      <td>2000</td>\n",
       "      <td>NONE</td>\n",
       "      <td>532.0</td>\n",
       "    </tr>\n",
       "    <tr>\n",
       "      <th>3</th>\n",
       "      <td>2000</td>\n",
       "      <td>SUBS</td>\n",
       "      <td>246.0</td>\n",
       "    </tr>\n",
       "    <tr>\n",
       "      <th>4</th>\n",
       "      <td>2000</td>\n",
       "      <td>UNK</td>\n",
       "      <td>1.0</td>\n",
       "    </tr>\n",
       "    <tr>\n",
       "      <th>...</th>\n",
       "      <td>...</td>\n",
       "      <td>...</td>\n",
       "      <td>...</td>\n",
       "    </tr>\n",
       "    <tr>\n",
       "      <th>115</th>\n",
       "      <td>2011</td>\n",
       "      <td>Not Reported</td>\n",
       "      <td>0.0</td>\n",
       "    </tr>\n",
       "    <tr>\n",
       "      <th>116</th>\n",
       "      <td>2000</td>\n",
       "      <td>Not Reported</td>\n",
       "      <td>0.0</td>\n",
       "    </tr>\n",
       "    <tr>\n",
       "      <th>117</th>\n",
       "      <td>2003</td>\n",
       "      <td>UNK</td>\n",
       "      <td>0.0</td>\n",
       "    </tr>\n",
       "    <tr>\n",
       "      <th>118</th>\n",
       "      <td>2003</td>\n",
       "      <td>Not Reported</td>\n",
       "      <td>0.0</td>\n",
       "    </tr>\n",
       "    <tr>\n",
       "      <th>119</th>\n",
       "      <td>2019</td>\n",
       "      <td>MINR</td>\n",
       "      <td>0.0</td>\n",
       "    </tr>\n",
       "  </tbody>\n",
       "</table>\n",
       "<p>120 rows × 3 columns</p>\n",
       "</div>"
      ],
      "text/plain": [
       "    ev_year        damage  count\n",
       "0      2000          DEST   60.0\n",
       "1      2000          MINR  472.0\n",
       "2      2000          NONE  532.0\n",
       "3      2000          SUBS  246.0\n",
       "4      2000           UNK    1.0\n",
       "..      ...           ...    ...\n",
       "115    2011  Not Reported    0.0\n",
       "116    2000  Not Reported    0.0\n",
       "117    2003           UNK    0.0\n",
       "118    2003  Not Reported    0.0\n",
       "119    2019          MINR    0.0\n",
       "\n",
       "[120 rows x 3 columns]"
      ]
     },
     "execution_count": 225,
     "metadata": {},
     "output_type": "execute_result"
    }
   ],
   "source": [
    "aircraftResult"
   ]
  },
  {
   "cell_type": "code",
   "execution_count": 226,
   "metadata": {},
   "outputs": [],
   "source": [
    "idx = aircraftResult.index[aircraftResult['ev_year'] == '2000']\n",
    "\n",
    "aircraftResult.drop(list(idx), inplace = True)"
   ]
  },
  {
   "cell_type": "markdown",
   "metadata": {},
   "source": [
    "###### Aircraft damage VS year"
   ]
  },
  {
   "cell_type": "code",
   "execution_count": 227,
   "metadata": {},
   "outputs": [
    {
     "data": {
      "image/png": "[encoded data removed]",
      "text/plain": [
       "<Figure size 864x432 with 1 Axes>"
      ]
     },
     "metadata": {
      "needs_background": "light"
     },
     "output_type": "display_data"
    }
   ],
   "source": [
    "aircraft_DEST_res = aircraftResult[aircraftResult['damage'] == 'DEST'].sort_values(by=['ev_year'])\n",
    "aircraft_SERS_res = aircraftResult[aircraftResult['damage'] == 'SUBS'].sort_values(by=['ev_year'])\n",
    "aircraft_MINR_res = aircraftResult[aircraftResult['damage'] == 'MINR'].sort_values(by=['ev_year'])\n",
    "aircraft_NONE_res = aircraftResult[aircraftResult['damage'] == 'NONE'].sort_values(by=['ev_year'])\n",
    "aircraft_UNKN_res = aircraftResult[aircraftResult['damage'] == 'Not Reported'].sort_values(by=['ev_year'])\n",
    "\n",
    "fig, ax = plt.subplots(figsize=(12, 6))\n",
    "sns.lineplot(aircraft_DEST_res['ev_year'].values, aircraft_DEST_res['count'].values, marker = '+', lw = 2)\n",
    "sns.lineplot(aircraft_SERS_res['ev_year'].values, aircraft_SERS_res['count'].values, marker = 's', lw = 2)\n",
    "sns.lineplot(aircraft_MINR_res['ev_year'].values, aircraft_MINR_res['count'].values, marker = 'p', lw = 2)\n",
    "sns.lineplot(aircraft_NONE_res['ev_year'].values, aircraft_NONE_res['count'].values, marker = 'X', lw = 2)\n",
    "sns.lineplot(aircraft_UNKN_res['ev_year'].values, aircraft_UNKN_res['count'].values, marker = 'd', lw = 2)\n",
    "plt.legend(['Destroyed', 'Substantial', 'Minor', 'None', 'Not Reported'])\n",
    "plt.xlabel('Year', fontsize = 16, fontweight = 'bold')\n",
    "plt.ylabel('Count', fontsize = 16, fontweight = 'bold')\n",
    "plt.savefig('damage_vs_year.pdf')"
   ]
  },
  {
   "cell_type": "markdown",
   "metadata": {},
   "source": [
    "##### Injury VS year"
   ]
  },
  {
   "cell_type": "code",
   "execution_count": 228,
   "metadata": {},
   "outputs": [
    {
     "data": {
      "image/png": "[encoded data removed]",
      "text/plain": [
       "<Figure size 864x432 with 1 Axes>"
      ]
     },
     "metadata": {
      "needs_background": "light"
     },
     "output_type": "display_data"
    }
   ],
   "source": [
    "fig, ax = plt.subplots(figsize=(12, 6))\n",
    "\n",
    "noEventsbyYear = events_part['ev_year'].groupby(events_part['ev_year'].rename('year')).agg({'count'})\n",
    "sns.lineplot(No_Report_res['ev_year'].values, noEventsbyYear['count'], marker = 'o', lw = 2)\n",
    "\n",
    "sns.lineplot(FATL_res['ev_year'].values, FATL_res['count'].values, marker = '+', lw = 2)\n",
    "sns.lineplot(SERS_res['ev_year'].values, SERS_res['count'].values, marker = 's', lw = 2)\n",
    "sns.lineplot(MINR_res['ev_year'].values, MINR_res['count'].values, marker = 'p', lw = 2)\n",
    "sns.lineplot(NONE_res['ev_year'].values, NONE_res['count'].values, marker = 'X', lw = 2)\n",
    "sns.lineplot(UNKN_res['ev_year'].values, UNKN_res['count'].values, marker = 'd', lw = 2)\n",
    "sns.lineplot(No_Report_res['ev_year'].values, No_Report_res['count'].values, marker = '>', lw = 2)\n",
    "\n",
    "plt.xlabel('Year', fontsize = 16, fontweight = 'bold')\n",
    "plt.ylabel('Count', fontsize = 16, fontweight = 'bold')\n",
    "plt.legend(['Accidents', 'Fatal', 'Serious', 'Minor', 'None', 'Unknown', 'Not Reported'])\n",
    "plt.savefig('injury_vs_year.pdf')"
   ]
  },
  {
   "cell_type": "markdown",
   "metadata": {},
   "source": [
    "#### Accident vs Aircraft Manufactuer"
   ]
  },
  {
   "cell_type": "code",
   "execution_count": 229,
   "metadata": {},
   "outputs": [],
   "source": [
    "acft_make_counter = collections.Counter(aircraft['acft_make'].str.title())\n",
    "acft_make_counter_plot = {k: v for k, v in acft_make_counter.items() if v > 5}"
   ]
  },
  {
   "cell_type": "code",
   "execution_count": 230,
   "metadata": {},
   "outputs": [
    {
     "data": {
      "text/plain": [
       "Text(0, 0.5, 'No of accidents')"
      ]
     },
     "execution_count": 230,
     "metadata": {},
     "output_type": "execute_result"
    },
    {
     "data": {
      "image/png": "[encoded data removed]",
      "text/plain": [
       "<Figure size 720x432 with 1 Axes>"
      ]
     },
     "metadata": {
      "needs_background": "light"
     },
     "output_type": "display_data"
    }
   ],
   "source": [
    "plt.figure(figsize = (10, 6))\n",
    "sns.barplot(list(acft_make_counter_plot.keys()), list(acft_make_counter_plot.values()))\n",
    "plt.xticks(rotation=90)\n",
    "plt.xlabel('Aircraft manufacturer', fontsize = 16, fontweight = 'bold')\n",
    "plt.ylabel('No of accidents', fontsize = 16, fontweight = 'bold')"
   ]
  },
  {
   "cell_type": "markdown",
   "metadata": {},
   "source": [
    "#### Accident vs Event Type"
   ]
  },
  {
   "cell_type": "code",
   "execution_count": 231,
   "metadata": {},
   "outputs": [],
   "source": [
    "ev_type_counter = collections.Counter(events['ev_type'].fillna('Unknown'))\n",
    "ev_type_keys = ['Accident','Incident','Unknown']"
   ]
  },
  {
   "cell_type": "code",
   "execution_count": 232,
   "metadata": {},
   "outputs": [
    {
     "data": {
      "text/plain": [
       "Text(0, 0.5, 'No of events')"
      ]
     },
     "execution_count": 232,
     "metadata": {},
     "output_type": "execute_result"
    },
    {
     "data": {
      "image/png": "[encoded data removed]",
      "text/plain": [
       "<Figure size 576x432 with 1 Axes>"
      ]
     },
     "metadata": {
      "needs_background": "light"
     },
     "output_type": "display_data"
    }
   ],
   "source": [
    "plt.figure(figsize = (8, 6))\n",
    "sns.barplot(ev_type_keys, list(ev_type_counter.values()))\n",
    "plt.xlabel('Event type', fontsize = 16, fontweight = 'bold')\n",
    "plt.ylabel('No of events', fontsize = 16, fontweight = 'bold')"
   ]
  },
  {
   "cell_type": "markdown",
   "metadata": {},
   "source": [
    "#### Accident vs Year"
   ]
  },
  {
   "cell_type": "code",
   "execution_count": 233,
   "metadata": {},
   "outputs": [
    {
     "data": {
      "text/plain": [
       "Text(0, 0.5, 'No of events')"
      ]
     },
     "execution_count": 233,
     "metadata": {},
     "output_type": "execute_result"
    },
    {
     "data": {
      "image/png": "[encoded data removed]",
      "text/plain": [
       "<Figure size 576x432 with 1 Axes>"
      ]
     },
     "metadata": {
      "needs_background": "light"
     },
     "output_type": "display_data"
    }
   ],
   "source": [
    "ev_year_counter = collections.Counter(events['ev_year'])\n",
    "\n",
    "plt.figure(figsize = (8, 6))\n",
    "sns.barplot(list(ev_year_counter.keys()), list(ev_year_counter.values()))\n",
    "plt.xticks(rotation=90)\n",
    "plt.xlabel('Event type', fontsize = 16, fontweight = 'bold')\n",
    "plt.ylabel('No of events', fontsize = 16, fontweight = 'bold')"
   ]
  },
  {
   "cell_type": "markdown",
   "metadata": {},
   "source": [
    "#### Accident vs State"
   ]
  },
  {
   "cell_type": "code",
   "execution_count": 234,
   "metadata": {},
   "outputs": [
    {
     "data": {
      "text/plain": [
       "Text(0, 0.5, 'No of events')"
      ]
     },
     "execution_count": 234,
     "metadata": {},
     "output_type": "execute_result"
    },
    {
     "data": {
      "image/png": "[encoded data removed]",
      "text/plain": [
       "<Figure size 1008x432 with 1 Axes>"
      ]
     },
     "metadata": {
      "needs_background": "light"
     },
     "output_type": "display_data"
    }
   ],
   "source": [
    "ev_state_counter = collections.Counter(events['ev_state'])\n",
    "\n",
    "plt.figure(figsize = (14, 6))\n",
    "sns.barplot(list(ev_state_counter.keys()), list(ev_state_counter.values()))\n",
    "plt.xticks(rotation=90)\n",
    "plt.xlabel('Event state', fontsize = 16, fontweight = 'bold')\n",
    "plt.ylabel('No of events', fontsize = 16, fontweight = 'bold')"
   ]
  },
  {
   "cell_type": "markdown",
   "metadata": {},
   "source": [
    "#### Accident vs Wind Gusting"
   ]
  },
  {
   "cell_type": "code",
   "execution_count": 235,
   "metadata": {},
   "outputs": [],
   "source": [
    "gust_ind_counter = collections.Counter(events['gust_ind'].fillna('Not Reported'))\n",
    "gust_ind_keys = ['Not Gusting', 'Gusting', 'Unknown', 'Not Reported']"
   ]
  },
  {
   "cell_type": "code",
   "execution_count": 236,
   "metadata": {},
   "outputs": [
    {
     "data": {
      "text/plain": [
       "Text(0, 0.5, 'No of events')"
      ]
     },
     "execution_count": 236,
     "metadata": {},
     "output_type": "execute_result"
    },
    {
     "data": {
      "image/png": "[encoded data removed]",
      "text/plain": [
       "<Figure size 1008x432 with 1 Axes>"
      ]
     },
     "metadata": {
      "needs_background": "light"
     },
     "output_type": "display_data"
    }
   ],
   "source": [
    "plt.figure(figsize = (14, 6))\n",
    "sns.barplot(gust_ind_keys, list(gust_ind_counter.values()))\n",
    "plt.xlabel('Event type', fontsize = 16, fontweight = 'bold')\n",
    "plt.ylabel('No of events', fontsize = 16, fontweight = 'bold')"
   ]
  },
  {
   "cell_type": "markdown",
   "metadata": {},
   "source": [
    "#### Accident vs Airport Elevation"
   ]
  },
  {
   "cell_type": "code",
   "execution_count": 237,
   "metadata": {},
   "outputs": [],
   "source": [
    "elevation = events['apt_elev'].values\n",
    "elevation = elevation[~np.isnan(elevation)]"
   ]
  },
  {
   "cell_type": "code",
   "execution_count": 238,
   "metadata": {},
   "outputs": [
    {
     "data": {
      "text/plain": [
       "Text(0, 0.5, 'Probability')"
      ]
     },
     "execution_count": 238,
     "metadata": {},
     "output_type": "execute_result"
    },
    {
     "data": {
      "image/png": "[encoded data removed]",
      "text/plain": [
       "<Figure size 720x432 with 1 Axes>"
      ]
     },
     "metadata": {
      "needs_background": "light"
     },
     "output_type": "display_data"
    }
   ],
   "source": [
    "plt.figure(figsize = (10, 6))\n",
    "sns.distplot(elevation)\n",
    "plt.xlabel('Airport elevation', fontsize = 16, fontweight = 'bold')\n",
    "plt.ylabel('Probability', fontsize = 16, fontweight = 'bold')"
   ]
  },
  {
   "cell_type": "markdown",
   "metadata": {},
   "source": [
    "#### Accident vs Highest Injury"
   ]
  },
  {
   "cell_type": "code",
   "execution_count": 239,
   "metadata": {},
   "outputs": [
    {
     "data": {
      "text/plain": [
       "Text(0, 0.5, 'No of events')"
      ]
     },
     "execution_count": 239,
     "metadata": {},
     "output_type": "execute_result"
    },
    {
     "data": {
      "image/png": "[encoded data removed]",
      "text/plain": [
       "<Figure size 576x432 with 1 Axes>"
      ]
     },
     "metadata": {
      "needs_background": "light"
     },
     "output_type": "display_data"
    }
   ],
   "source": [
    "ev_highest_injury_counter = collections.Counter(events['ev_highest_injury'].fillna('Not Reported'))\n",
    "ev_highest_injury_keys = ['Serious', 'None', 'Minor', 'Fatal', 'Not Reported', 'Unknown']\n",
    "\n",
    "plt.figure(figsize = (8, 6))\n",
    "sns.barplot(ev_highest_injury_keys, list(ev_highest_injury_counter.values()))\n",
    "plt.xlabel('Highest injury', fontsize = 16, fontweight = 'bold')\n",
    "plt.ylabel('No of events', fontsize = 16, fontweight = 'bold')"
   ]
  },
  {
   "cell_type": "markdown",
   "metadata": {},
   "source": [
    "#### Accident vs Aircraft Damage"
   ]
  },
  {
   "cell_type": "code",
   "execution_count": 240,
   "metadata": {},
   "outputs": [
    {
     "data": {
      "text/plain": [
       "Counter({'NONE': 918,\n",
       "         'SUBS': 543,\n",
       "         'MINR': 749,\n",
       "         'DEST': 88,\n",
       "         'Not Reported': 5,\n",
       "         'UNK': 5})"
      ]
     },
     "execution_count": 240,
     "metadata": {},
     "output_type": "execute_result"
    }
   ],
   "source": [
    "ev_aircraft_damage_counter = collections.Counter(aircraft['damage'].fillna('Not Reported'))\n",
    "ev_aircraft_damage_counter"
   ]
  },
  {
   "cell_type": "markdown",
   "metadata": {},
   "source": [
    "#### Accident vs Location"
   ]
  },
  {
   "cell_type": "code",
   "execution_count": 241,
   "metadata": {},
   "outputs": [
    {
     "data": {
      "text/plain": [
       "Text(0, 0.5, 'No of events')"
      ]
     },
     "execution_count": 241,
     "metadata": {},
     "output_type": "execute_result"
    },
    {
     "data": {
      "image/png": "[encoded data removed]",
      "text/plain": [
       "<Figure size 576x432 with 1 Axes>"
      ]
     },
     "metadata": {
      "needs_background": "light"
     },
     "output_type": "display_data"
    }
   ],
   "source": [
    "ev_nr_apt_loc_counter = collections.Counter(events['ev_nr_apt_loc'].fillna('Not Reported'))\n",
    "ev_nr_apt_loc_keys = ['On Airport', 'Off Airport/Airstrip', 'Not Reported', 'Unknown']\n",
    "\n",
    "plt.figure(figsize = (8, 6))\n",
    "sns.barplot(ev_nr_apt_loc_keys, list(ev_nr_apt_loc_counter.values()))\n",
    "plt.xlabel('Accident location', fontsize = 16, fontweight = 'bold')\n",
    "plt.ylabel('No of events', fontsize = 16, fontweight = 'bold')"
   ]
  },
  {
   "cell_type": "markdown",
   "metadata": {},
   "source": [
    "#### Accident vs Light Condition"
   ]
  },
  {
   "cell_type": "code",
   "execution_count": 242,
   "metadata": {},
   "outputs": [],
   "source": [
    "light_cond_counter = collections.Counter(events['light_cond'].fillna('Unknown'))\n",
    "\n",
    "light_cond_keys = ['Day','Night/Dark','Night', 'Not Reported', 'Condition-Unknown', 'Dusk', 'Dawn', 'Night//Bright']"
   ]
  },
  {
   "cell_type": "code",
   "execution_count": 243,
   "metadata": {},
   "outputs": [
    {
     "data": {
      "text/plain": [
       "Text(0, 0.5, 'No of events')"
      ]
     },
     "execution_count": 243,
     "metadata": {},
     "output_type": "execute_result"
    },
    {
     "data": {
      "image/png": "[encoded data removed]",
      "text/plain": [
       "<Figure size 576x432 with 1 Axes>"
      ]
     },
     "metadata": {
      "needs_background": "light"
     },
     "output_type": "display_data"
    }
   ],
   "source": [
    "plt.figure(figsize = (8, 6))\n",
    "sns.barplot(light_cond_keys, list(light_cond_counter.values()))\n",
    "plt.xlabel('Light Condition', fontsize = 16, fontweight = 'bold')\n",
    "plt.ylabel('No of events', fontsize = 16, fontweight = 'bold')"
   ]
  },
  {
   "cell_type": "markdown",
   "metadata": {},
   "source": [
    "#### Accident vs Engine Type"
   ]
  },
  {
   "cell_type": "code",
   "execution_count": 244,
   "metadata": {},
   "outputs": [],
   "source": [
    "eng_type_counter = collections.Counter(engines['eng_type'].fillna('Not Reported'))\n",
    "eng_type_keys = ['Turbo Fan', 'Turbo Prop', 'Unknown', 'Turbo Jet', 'Reciprocating', 'Not Reported', 'Turbo Shaft']"
   ]
  },
  {
   "cell_type": "code",
   "execution_count": 245,
   "metadata": {},
   "outputs": [
    {
     "data": {
      "text/plain": [
       "Text(0, 0.5, 'No of events')"
      ]
     },
     "execution_count": 245,
     "metadata": {},
     "output_type": "execute_result"
    },
    {
     "data": {
      "image/png": "[encoded data removed]",
      "text/plain": [
       "<Figure size 576x432 with 1 Axes>"
      ]
     },
     "metadata": {
      "needs_background": "light"
     },
     "output_type": "display_data"
    }
   ],
   "source": [
    "plt.figure(figsize = (8, 6))\n",
    "sns.barplot(eng_type_keys, list(eng_type_counter.values()))\n",
    "plt.xlabel('Engine Type', fontsize = 16, fontweight = 'bold')\n",
    "plt.ylabel('No of events', fontsize = 16, fontweight = 'bold')"
   ]
  },
  {
   "cell_type": "markdown",
   "metadata": {},
   "source": [
    "#### Accident vs Airframe Hours"
   ]
  },
  {
   "cell_type": "code",
   "execution_count": 246,
   "metadata": {},
   "outputs": [
    {
     "data": {
      "text/plain": [
       "Text(0, 0.5, 'Probability')"
      ]
     },
     "execution_count": 246,
     "metadata": {},
     "output_type": "execute_result"
    },
    {
     "data": {
      "image/png": "[encoded data removed]",
      "text/plain": [
       "<Figure size 576x432 with 1 Axes>"
      ]
     },
     "metadata": {
      "needs_background": "light"
     },
     "output_type": "display_data"
    }
   ],
   "source": [
    "afm_hrs = aircraft['afm_hrs'].values\n",
    "afm_hrs = afm_hrs[~np.isnan(afm_hrs)]\n",
    "\n",
    "plt.figure(figsize = (8, 6))\n",
    "sns.distplot(afm_hrs, kde=False, rug=True)\n",
    "plt.xlabel('Airframe hours (unit: hours)', fontsize = 16, fontweight = 'bold')\n",
    "plt.ylabel('Probability', fontsize = 16, fontweight = 'bold')"
   ]
  },
  {
   "cell_type": "markdown",
   "metadata": {},
   "source": [
    "#### Aircraft Basic Characteristics"
   ]
  },
  {
   "cell_type": "code",
   "execution_count": 249,
   "metadata": {},
   "outputs": [
    {
     "data": {
      "text/plain": [
       "0       2.0\n",
       "1       2.0\n",
       "2       3.0\n",
       "3       2.0\n",
       "4       4.0\n",
       "       ... \n",
       "2303    2.0\n",
       "2304    NaN\n",
       "2305    2.0\n",
       "2306    2.0\n",
       "2307    2.0\n",
       "Name: num_eng, Length: 2308, dtype: float64"
      ]
     },
     "execution_count": 249,
     "metadata": {},
     "output_type": "execute_result"
    }
   ],
   "source": [
    "aircraft['num_eng']"
   ]
  },
  {
   "cell_type": "code",
   "execution_count": 136,
   "metadata": {},
   "outputs": [
    {
     "data": {
      "text/plain": [
       "0        PAX\n",
       "1       CARG\n",
       "2       PACA\n",
       "3       PACA\n",
       "4       PACA\n",
       "        ... \n",
       "2303     PAX\n",
       "2304     PAX\n",
       "2305     PAX\n",
       "2306     PAX\n",
       "2307     PAX\n",
       "Name: oper_pax_cargo, Length: 2308, dtype: object"
      ]
     },
     "execution_count": 136,
     "metadata": {},
     "output_type": "execute_result"
    }
   ],
   "source": [
    "aircraft['oper_pax_cargo']"
   ]
  },
  {
   "cell_type": "code",
   "execution_count": 137,
   "metadata": {},
   "outputs": [
    {
     "data": {
      "text/plain": [
       "0       DAYL\n",
       "1       DAYL\n",
       "2       DAYL\n",
       "3       DAYL\n",
       "4       DAYL\n",
       "        ... \n",
       "2238    DAYL\n",
       "2239      NR\n",
       "2240    NITE\n",
       "2241    DAYL\n",
       "2242    DAYL\n",
       "Name: light_cond, Length: 2243, dtype: object"
      ]
     },
     "execution_count": 137,
     "metadata": {},
     "output_type": "execute_result"
    }
   ],
   "source": [
    "events['light_cond']"
   ]
  },
  {
   "cell_type": "code",
   "execution_count": 250,
   "metadata": {},
   "outputs": [],
   "source": [
    "import pygraphviz as pgv\n",
    "from IPython.display import display, Image\n",
    "\n",
    "def drawImage(dot):\n",
    "    return Image(pgv.AGraph(dot).draw(format='png', prog='dot'))\n",
    "\n",
    "def drawPDF(dot, fileName):\n",
    "    return pgv.AGraph(dot).draw(fileName + '.pdf', prog='dot')"
   ]
  },
  {
   "cell_type": "markdown",
   "metadata": {},
   "source": [
    "##### Derive the consequence of incident as represented by two indicators: personnel injury and aircraft damage\n",
    "\n",
    "- Four levels of personnel injury: fatal, serious, minor, or none\n",
    "- Three levels of aircraft damage: destroyed, substantial, minor, or none"
   ]
  },
  {
   "cell_type": "code",
   "execution_count": 251,
   "metadata": {},
   "outputs": [],
   "source": [
    "import re\n",
    "def calculate_injury_level(ev_ID):    \n",
    "    Fatal = sum(injury[(injury['ev_id'] == sample_ev_ID) & (injury['injury_level'] == 'FATL')]['inj_person_count'].values)\n",
    "    Serious = sum(injury[(injury['ev_id'] == sample_ev_ID) & (injury['injury_level'] == 'SERS')]['inj_person_count'].values)\n",
    "    Minor = sum(injury[(injury['ev_id'] == sample_ev_ID) & (injury['injury_level'] == 'MINR')]['inj_person_count'].values)\n",
    "    No = sum(injury[(injury['ev_id'] == sample_ev_ID) & (injury['injury_level'] == 'NONE')]['inj_person_count'].values)\n",
    "    Total = sum(injury[(injury['ev_id'] == sample_ev_ID) & (injury['injury_level'] == 'TOTL')]['inj_person_count'].values)\n",
    "    \n",
    "    dict_injury = {}\n",
    "    if Total != 0:\n",
    "        dict_injury['Fatal'] = Fatal/Total\n",
    "        dict_injury['Serious'] = Serious/Total\n",
    "        dict_injury['Minor'] = Minor/Total\n",
    "        dict_injury['NONE'] = No/Total\n",
    "        \n",
    "        if dict_injury['Fatal'] > 0:\n",
    "            return 'Fatalinjury'\n",
    "        elif dict_injury['Serious'] > 0:\n",
    "            return 'Seriousinjury'\n",
    "        elif dict_injury['Minor'] > 0:\n",
    "            return 'Minorinjury'\n",
    "        else:\n",
    "            return 'Noinjury'\n",
    "    else:\n",
    "        return 'Noinjury'"
   ]
  },
  {
   "cell_type": "markdown",
   "metadata": {},
   "source": [
    "###### Derive the meaning from code "
   ]
  },
  {
   "cell_type": "code",
   "execution_count": 252,
   "metadata": {},
   "outputs": [],
   "source": [
    "def deriveNamebyCode(code):\n",
    "    try:\n",
    "        label = metaData[metaData['code_iaids'] == code]['meaning'].values[0]\n",
    "        name = re.sub('[^a-zA-Z]+', '', label)\n",
    "    except:\n",
    "        return 'Unknownquantity', 'Unknown quantity'\n",
    "    \n",
    "    return name, label"
   ]
  },
  {
   "cell_type": "markdown",
   "metadata": {},
   "source": [
    "#### A demo on graphical representation of accident occurrences"
   ]
  },
  {
   "cell_type": "code",
   "execution_count": 253,
   "metadata": {},
   "outputs": [],
   "source": [
    "sample_ev_ID = '20050627X00874'\n",
    "#sample_ev_ID = '20001213X29335'\n",
    "example = narratives[narratives['ev_id'] == sample_ev_ID]"
   ]
  },
  {
   "cell_type": "code",
   "execution_count": 254,
   "metadata": {},
   "outputs": [
    {
     "data": {
      "text/plain": [
       "array(['HISTORY OF FLIGHT\\n\\nOn June 7, 2005, at 0125 eastern daylight time, a McDonnell Douglas MD-11F, N250UP, operated by United Parcel Service Company (UPS) as flight 6971, was substantially damaged during landing at the Louisville International Airport-Standiford Field (SDF), Louisville, Kentucky.  There were no injuries to the two flight crewmembers or two passengers.  Night visual meteorological conditions prevailed and an instrument flight rules flight plan had been filed for the flight that originated from the Ted Stevens Anchorage International Airport, Anchorage, Alaska.  The non-scheduled cargo flight was conducted under 14 Code of Federal Regulations Part 121.\\n\\nAccording to the operator, the airplane experienced a hard landing with a different flight crew during the previous landing in Anchorage.  Postflight inspection of the airplane and landing gear by maintenance personnel did not reveal any abnormalities, and the airplane was released for flight.  In addition, the accident flight crew was aware of the hard landing and stated that they specifically examined the nose gear with the knowledge of the previous hard landing, and did not observe any discrepancies. \\n\\nThe pilot flying (PF) was a captain seated in the left seat, who was receiving initial operating experience (IOE) in the MD-11F.  The pilot monitoring (PM) was a captain seated in the right seat, was also the pilot-in-command (PIC) of the flight. \\n\\nBoth pilots reported that the takeoff, en route, and approach portions of the flight were normal and uneventful.  The airplane was cleared to land at SDF, on runway 17L, an 8,579-foot-long, concrete runway.  The PIC reported that the landing approach speed was 163 knots.  The airplane\\'s main landing gear touched down normally, and was followed by a normal de-rotation rate; however, he heard a loud \"explosion\" when the nose landing gear contacted the runway.  The nose gear lifted up momentarily, before contacting the ground again.  During the landing rollout, after the thrust reversers were deployed, the PF observed sparks fly up past the cockpit window, and described feeling \"tremendous\" vibrations.\\n\\nThe airplane remained predominately on the runway centerline during the rollout, before coming to a stop on the runway.  All occupants evacuated via the left main door emergency slide.  Airport rescue and fire fighting (ARFF) personnel extinguished a fire that ensued, and surrounded the nose landing gear.\\n\\nExamination of the runway indicated that the nose gear touched down about 150 prior to the 6,000 feet remaining sign, and 6 feet left of the runway centerline.  A gouge was observed on the runway about 100 feet further along the runway, and portions of the nose landing gear assembly were strewn about 5,000 feet along, and around the runway.  The remnants of the nose landing gear assembly were subsequently forwarded to the Safety Board\\'s Metallurgical Laboratory, Washington, D.C., for further examination.  The remnants included, the inboard and outboard wheel halves for both wheels; the inboard and outboard bearings for both wheels; axle sleeves, spacers, and end nuts from the left and right wheels; bearing seals and retaining rings for both wheels; wheel bolts, nuts, and washers for connecting the wheel halves; the left and right tires; the hubcap for the left wheel; and a support tube.\\n\\nIn addition to the damage to the nose gear assembly, the airplane sustained damage to and around the pressure bulkhead at station 625.\\n\\nThe airplane was equipped with an L-3 Communications Fairchild cockpit voice recorder and flight data recorder, which were forwarded to the Safety Board\\'s Vehicle Recorders Laboratory, Washington, D.C., for readout.\\n\\nThe accident occurred during the hours of night at approximately 38 degrees, 10.46 minutes north latitude, and 85 degrees, 44.16 minutes west longitude.\\n\\nPERSONNEL INFORMATION\\n\\nThe PIC captain was hired by UPS on July 18, 1988.  He held airline transport pilot certificates'],\n",
       "      dtype=object)"
      ]
     },
     "execution_count": 254,
     "metadata": {},
     "output_type": "execute_result"
    }
   ],
   "source": [
    "example['narr_accp'].values"
   ]
  },
  {
   "cell_type": "code",
   "execution_count": 255,
   "metadata": {},
   "outputs": [
    {
     "data": {
      "text/plain": [
       "'20050627X00874'"
      ]
     },
     "execution_count": 255,
     "metadata": {},
     "output_type": "execute_result"
    }
   ],
   "source": [
    "sample_ev_ID"
   ]
  },
  {
   "cell_type": "markdown",
   "metadata": {},
   "source": [
    "##### Identify event causes and contributory factors"
   ]
  },
  {
   "cell_type": "code",
   "execution_count": 256,
   "metadata": {},
   "outputs": [
    {
     "data": {
      "text/html": [
       "<div>\n",
       "<style scoped>\n",
       "    .dataframe tbody tr th:only-of-type {\n",
       "        vertical-align: middle;\n",
       "    }\n",
       "\n",
       "    .dataframe tbody tr th {\n",
       "        vertical-align: top;\n",
       "    }\n",
       "\n",
       "    .dataframe thead th {\n",
       "        text-align: right;\n",
       "    }\n",
       "</style>\n",
       "<table border=\"1\" class=\"dataframe\">\n",
       "  <thead>\n",
       "    <tr style=\"text-align: right;\">\n",
       "      <th></th>\n",
       "      <th>ev_id</th>\n",
       "      <th>Aircraft_Key</th>\n",
       "      <th>Occurrence_No</th>\n",
       "      <th>seq_event_no</th>\n",
       "      <th>group_code</th>\n",
       "      <th>Subj_Code</th>\n",
       "      <th>Cause_Factor</th>\n",
       "      <th>Modifier_Code</th>\n",
       "      <th>Person_Code</th>\n",
       "      <th>lchg_date</th>\n",
       "      <th>lchg_userid</th>\n",
       "    </tr>\n",
       "  </thead>\n",
       "  <tbody>\n",
       "    <tr>\n",
       "      <th>54944</th>\n",
       "      <td>20050627X00874</td>\n",
       "      <td>1</td>\n",
       "      <td>1</td>\n",
       "      <td>1</td>\n",
       "      <td>2</td>\n",
       "      <td>24627</td>\n",
       "      <td>F</td>\n",
       "      <td>3115</td>\n",
       "      <td>4000.0</td>\n",
       "      <td>2/13/2008 14:12:54</td>\n",
       "      <td>JOHB</td>\n",
       "    </tr>\n",
       "    <tr>\n",
       "      <th>54945</th>\n",
       "      <td>20050627X00874</td>\n",
       "      <td>1</td>\n",
       "      <td>1</td>\n",
       "      <td>2</td>\n",
       "      <td>2</td>\n",
       "      <td>24500</td>\n",
       "      <td>C</td>\n",
       "      <td>3109</td>\n",
       "      <td>4106.0</td>\n",
       "      <td>2/13/2008 14:12:54</td>\n",
       "      <td>JOHB</td>\n",
       "    </tr>\n",
       "  </tbody>\n",
       "</table>\n",
       "</div>"
      ],
      "text/plain": [
       "                ev_id  Aircraft_Key  Occurrence_No  seq_event_no  group_code  \\\n",
       "54944  20050627X00874             1              1             1           2   \n",
       "54945  20050627X00874             1              1             2           2   \n",
       "\n",
       "       Subj_Code Cause_Factor  Modifier_Code  Person_Code           lchg_date  \\\n",
       "54944      24627            F           3115       4000.0  2/13/2008 14:12:54   \n",
       "54945      24500            C           3109       4106.0  2/13/2008 14:12:54   \n",
       "\n",
       "              lchg_userid  \n",
       "54944  JOHB                \n",
       "54945  JOHB                "
      ]
     },
     "execution_count": 256,
     "metadata": {},
     "output_type": "execute_result"
    }
   ],
   "source": [
    "seq_of_events[seq_of_events['ev_id'] == sample_ev_ID]"
   ]
  },
  {
   "cell_type": "markdown",
   "metadata": {},
   "source": [
    "##### Find the event consequences"
   ]
  },
  {
   "cell_type": "code",
   "execution_count": 257,
   "metadata": {},
   "outputs": [
    {
     "data": {
      "text/html": [
       "<div>\n",
       "<style scoped>\n",
       "    .dataframe tbody tr th:only-of-type {\n",
       "        vertical-align: middle;\n",
       "    }\n",
       "\n",
       "    .dataframe tbody tr th {\n",
       "        vertical-align: top;\n",
       "    }\n",
       "\n",
       "    .dataframe thead th {\n",
       "        text-align: right;\n",
       "    }\n",
       "</style>\n",
       "<table border=\"1\" class=\"dataframe\">\n",
       "  <thead>\n",
       "    <tr style=\"text-align: right;\">\n",
       "      <th></th>\n",
       "      <th>ev_id</th>\n",
       "      <th>Aircraft_Key</th>\n",
       "      <th>Occurrence_No</th>\n",
       "      <th>Occurrence_Code</th>\n",
       "      <th>Phase_of_Flight</th>\n",
       "      <th>Altitude</th>\n",
       "      <th>lchg_date</th>\n",
       "      <th>lchg_userid</th>\n",
       "    </tr>\n",
       "  </thead>\n",
       "  <tbody>\n",
       "    <tr>\n",
       "      <th>127663</th>\n",
       "      <td>20050627X00874</td>\n",
       "      <td>1</td>\n",
       "      <td>1</td>\n",
       "      <td>200</td>\n",
       "      <td>570</td>\n",
       "      <td>0</td>\n",
       "      <td>2/13/2008 14:12:54</td>\n",
       "      <td>JOHB</td>\n",
       "    </tr>\n",
       "  </tbody>\n",
       "</table>\n",
       "</div>"
      ],
      "text/plain": [
       "                 ev_id  Aircraft_Key  Occurrence_No  Occurrence_Code  \\\n",
       "127663  20050627X00874             1              1              200   \n",
       "\n",
       "        Phase_of_Flight  Altitude           lchg_date         lchg_userid  \n",
       "127663              570         0  2/13/2008 14:12:54  JOHB                "
      ]
     },
     "execution_count": 257,
     "metadata": {},
     "output_type": "execute_result"
    }
   ],
   "source": [
    "occurrences[occurrences['ev_id'] == sample_ev_ID]"
   ]
  },
  {
   "cell_type": "markdown",
   "metadata": {},
   "source": [
    "##### Create functions to build the network consisting of nodes and edges"
   ]
  },
  {
   "cell_type": "code",
   "execution_count": 258,
   "metadata": {},
   "outputs": [],
   "source": [
    "dictEdges = {}\n",
    "\n",
    "lst = ['eventId', 'from', 'to']\n",
    "df_records = pd.DataFrame(columns=lst)\n",
    "\n",
    "def addEdges(key, ev_ID):\n",
    "    if key in dictEdges.keys():\n",
    "        dictEdges[key] += 1\n",
    "    else:\n",
    "        dictEdges[key] = 1\n",
    "    \n",
    "    global df_records\n",
    "    fromNode, toNode = key.split('->')\n",
    "    row = {'eventId': ev_ID, 'from': fromNode, 'to': toNode}\n",
    "    df_records = df_records.append(row, ignore_index=True)\n",
    "    \n",
    "    \n",
    "dictNodeLabel = {}\n",
    "def addNodeLabel(key, value):\n",
    "    if key == 'Flightcrew':\n",
    "        dictNodeLabel[key] = 'Flight crew'\n",
    "        return\n",
    "    if key not in dictNodeLabel.keys():\n",
    "        dictNodeLabel[key] = value\n",
    "        \n",
    "dictNodeLabel['Fatalinjury'] = 'Fatal injury'\n",
    "dictNodeLabel['Seriousinjury'] = 'Serious injury'\n",
    "dictNodeLabel['Minorinjury'] = 'Minor injury'\n",
    "dictNodeLabel['Noinjury'] = 'No injury'\n",
    "dictNodeLabel['Unknownreason'] = 'Unknown reason'"
   ]
  },
  {
   "cell_type": "markdown",
   "metadata": {},
   "source": [
    "#### Build graphical representations for the escalation of initiating events"
   ]
  },
  {
   "cell_type": "code",
   "execution_count": 262,
   "metadata": {},
   "outputs": [],
   "source": [
    "def buildOneGraphRep(sample_ev_ID):\n",
    "\n",
    "    g1 = \"digraph top {\"\n",
    "    g1 += \"\"\"size =\"12,12\"; \"\"\"\n",
    "    g1 += \"graph [compound=true];\"\n",
    "    \n",
    "    # Query the year that the accident happened\n",
    "    ev_year = events[events['ev_id'] == sample_ev_ID]['ev_year'].values[0]\n",
    "    \n",
    "    if ev_year <= 2006:\n",
    "        eventSequences = seq_of_events[seq_of_events['ev_id'] == sample_ev_ID][['Occurrence_No', 'seq_event_no', \n",
    "                                                                  'Subj_Code', 'Modifier_Code', 'Person_Code']]\n",
    "\n",
    "        ## Construct the subject name\n",
    "        subjectList = []\n",
    "        for index, row in eventSequences.iterrows():\n",
    "            Subj_Code = str(int(row['Subj_Code']))\n",
    "            Modifier_Code = str(int(row['Modifier_Code']))\n",
    "            Person_Code = str(int(row['Person_Code']))\n",
    "            Occurrence_No = int(row['Occurrence_No'])\n",
    "\n",
    "            subjectName, subjectLabel = deriveNamebyCode(Subj_Code)\n",
    "            #print (subjectName, subjectLabel)\n",
    "            \n",
    "            if Modifier_Code != '0':\n",
    "                modifierName, modifierLabel = deriveNamebyCode(Modifier_Code)\n",
    "                \n",
    "                if len(modifierName) > 0:\n",
    "                    subjectName = subjectName #+ modifierName\n",
    "                    subjectLabel = subjectLabel #+ ':' + modifierLabel\n",
    "\n",
    "            g1 += subjectName + ' [label =' + '\"' + subjectLabel + '\"'+ '];'\n",
    "            subjectList.append([Occurrence_No, subjectName])\n",
    "            addNodeLabel(subjectName, subjectLabel)\n",
    "\n",
    "            if Person_Code != '0':\n",
    "                personName, personeLabel = deriveNamebyCode(Person_Code)\n",
    "                g1 += personName + '[label = ' + '\"' + personeLabel + '\"' + '];'\n",
    "                g1 += personName + '->' + subjectName + ';'\n",
    "                addEdges(personName + '->' + subjectName, sample_ev_ID)\n",
    "                addNodeLabel(personName, personeLabel)\n",
    "\n",
    "        ## construct sequence of occurrence\n",
    "        eventOccurrences = occurrences[occurrences['ev_id'] == sample_ev_ID][['Occurrence_Code', 'Phase_of_Flight']]\n",
    "        occurrenceCount = 0\n",
    "        OccurrenceName = ''\n",
    "        \n",
    "        for index, row in eventOccurrences.iterrows():\n",
    "            Occurrence_Code = str(row['Occurrence_Code'])\n",
    "            Phase_of_Flight = str(row['Phase_of_Flight'])\n",
    "\n",
    "            prevOccurrence = OccurrenceName\n",
    "            OccurrenceName, OccurrenceLabel  = deriveNamebyCode(Occurrence_Code)\n",
    "            flightPhaseName, flightPhaseLabel = deriveNamebyCode(Phase_of_Flight)\n",
    "\n",
    "            g1 += OccurrenceName + ' [label = ' + '\"' + OccurrenceLabel + '\"' + ', style=filled, color=\".2 .5 0.9\"];'\n",
    "            addNodeLabel(OccurrenceName, OccurrenceLabel)\n",
    "            addNodeLabel(flightPhaseName, flightPhaseLabel)\n",
    "            \n",
    "            for subject in subjectList:\n",
    "                if subject[0] == occurrenceCount + 1:\n",
    "                    connection = subject[1] + '->' + OccurrenceName + ';'\n",
    "                    if connection not in g1:\n",
    "                        g1 += subject[1] + '->' + OccurrenceName + ';'\n",
    "                        addEdges(subject[1] + '->' + OccurrenceName, sample_ev_ID)\n",
    "            \n",
    "            if occurrenceCount == 0:\n",
    "                #g1 += flightPhaseName + ' [label = ' + '\"' + flightPhaseLabel + '\"' + '];'\n",
    "                #g1 += flightPhaseName + '->' + OccurrenceName + ';'\n",
    "                #addEdges(flightPhaseName + '->' + OccurrenceName)\n",
    "                pass\n",
    "            \n",
    "            if occurrenceCount >= 1:\n",
    "                g1 += prevOccurrence + '->' + OccurrenceName + ';'\n",
    "                #g1 += flightPhaseName + ' [label = ' + '\"' + flightPhaseLabel + '\"' + '];'\n",
    "                #g1 += flightPhaseName + '->' + OccurrenceName + ';'\n",
    "                \n",
    "                addEdges(prevOccurrence + '->' + OccurrenceName, sample_ev_ID)\n",
    "                #addEdges(flightPhaseName + '->' + OccurrenceName)\n",
    "\n",
    "            occurrenceCount += 1\n",
    "\n",
    "        ## Outcome of accident\n",
    "        aircraftDamageLevel = aircraft[aircraft['ev_id'] == sample_ev_ID]['damage'].values[0]\n",
    "        aircraftDamageName = dictAircraftDamage[aircraftDamageLevel] + 'aircraftdamage'\n",
    "        aircraftDamageLabel = dictAircraftDamage[aircraftDamageLevel] + ' aircraft damage'\n",
    "        addNodeLabel(aircraftDamageName, aircraftDamageLabel)\n",
    "        \n",
    "        g1 += aircraftDamageName + '[label = ' + '\"'+ aircraftDamageLabel + '\"' +', style=filled];'\n",
    "        \n",
    "        if OccurrenceName == '':\n",
    "            OccurrenceName = 'Unknownreason'\n",
    "            \n",
    "        g1 += OccurrenceName + '->' + aircraftDamageName + ';'\n",
    "        addEdges(OccurrenceName + '->' + aircraftDamageName, sample_ev_ID)\n",
    "\n",
    "        injuryLevel = calculate_injury_level(sample_ev_ID)\n",
    "        \n",
    "        g1 += injuryLevel + '[label = ' + '\"'+ dictNodeLabel[injuryLevel] + '\"' +', style=filled];'\n",
    "        g1 += OccurrenceName + '->' + injuryLevel + ';'\n",
    "        addEdges(OccurrenceName + '->' + injuryLevel, sample_ev_ID)\n",
    "\n",
    "        g1 += \"}\"\n",
    "        \n",
    "        return g1"
   ]
  },
  {
   "cell_type": "markdown",
   "metadata": {},
   "source": [
    "#### Demo of graphical representation"
   ]
  },
  {
   "cell_type": "code",
   "execution_count": 263,
   "metadata": {},
   "outputs": [
    {
     "data": {
      "text/plain": [
       "'20050627X00874'"
      ]
     },
     "execution_count": 263,
     "metadata": {},
     "output_type": "execute_result"
    }
   ],
   "source": [
    "sample_ev_ID"
   ]
  },
  {
   "cell_type": "code",
   "execution_count": 264,
   "metadata": {},
   "outputs": [
    {
     "data": {
      "image/png": "[encoded data removed]",
      "text/plain": [
       "<IPython.core.display.Image object>"
      ]
     },
     "execution_count": 264,
     "metadata": {},
     "output_type": "execute_result"
    }
   ],
   "source": [
    "dictAircraftDamage = {'MINR': 'Minor', 'DEST': 'Destroyed', 'NONE': 'None', 'UNK': 'Unknown', 'SUBS': 'Substantial'}\n",
    "dictEdges = {}\n",
    "g1 = buildOneGraphRep(sample_ev_ID)\n",
    "drawImage(g1)"
   ]
  },
  {
   "cell_type": "markdown",
   "metadata": {},
   "source": [
    "#### Build the connections for all the accidents that happened before 2006"
   ]
  },
  {
   "cell_type": "code",
   "execution_count": 265,
   "metadata": {},
   "outputs": [],
   "source": [
    "df_records.drop(df_records.index, inplace=True)\n",
    "dictEdges = {}\n",
    "\n",
    "for sample_ev_ID in ev_ID:\n",
    "    buildOneGraphRep(sample_ev_ID)"
   ]
  },
  {
   "cell_type": "code",
   "execution_count": 266,
   "metadata": {},
   "outputs": [],
   "source": [
    "setCauses = set(df_records['from'].values)\n",
    "\n",
    "dictElement = {}\n",
    "\n",
    "for cause in setCauses:\n",
    "    outcomes = set(df_records[(df_records['from'] == cause)]['to'].values)\n",
    "    \n",
    "    for outcome in outcomes:\n",
    "        #print ('no causes: ', no_causes)\n",
    "\n",
    "        key = cause + '->' + outcome\n",
    "\n",
    "        jointEvents = set(df_records[(df_records['to'] == outcome) & (df_records['from'] == cause)]['eventId'].values)\n",
    "        denominator = set(df_records[(df_records['from'] == cause) | (df_records['to'] == cause)]['eventId'].values)\n",
    "\n",
    "        if key not in dictElement.keys():\n",
    "            dictElement[key] = len(jointEvents)/len(denominator)\n",
    "            \n",
    "            if dictElement[key] == 1:\n",
    "                dictElement[key] = dictElement[key] * 0.95"
   ]
  },
  {
   "cell_type": "code",
   "execution_count": 267,
   "metadata": {},
   "outputs": [
    {
     "data": {
      "text/plain": [
       "3158"
      ]
     },
     "execution_count": 267,
     "metadata": {},
     "output_type": "execute_result"
    }
   ],
   "source": [
    "len(dictElement)"
   ]
  },
  {
   "cell_type": "code",
   "execution_count": 268,
   "metadata": {},
   "outputs": [
    {
     "data": {
      "text/plain": [
       "3158"
      ]
     },
     "execution_count": 268,
     "metadata": {},
     "output_type": "execute_result"
    }
   ],
   "source": [
    "len(dictEdges)"
   ]
  },
  {
   "cell_type": "markdown",
   "metadata": {},
   "source": [
    "#### Construct a dataframe to represent all the links in the network"
   ]
  },
  {
   "cell_type": "code",
   "execution_count": 269,
   "metadata": {},
   "outputs": [],
   "source": [
    "lst = ['name', 'fromID', 'toID', 'count']\n",
    "df_edges = pd.DataFrame(columns = lst)\n",
    "\n",
    "for key, value in dictEdges.items():\n",
    "    name = key\n",
    "    fromID, toID = str(key).split('->')\n",
    "    count = dictElement[key]\n",
    "    \n",
    "    row = {'name': key, 'fromID': fromID, 'toID': toID, 'count': count}\n",
    "    df_edges = df_edges.append(row, ignore_index=True)"
   ]
  },
  {
   "cell_type": "code",
   "execution_count": 270,
   "metadata": {},
   "outputs": [
    {
     "data": {
      "text/html": [
       "<div>\n",
       "<style scoped>\n",
       "    .dataframe tbody tr th:only-of-type {\n",
       "        vertical-align: middle;\n",
       "    }\n",
       "\n",
       "    .dataframe tbody tr th {\n",
       "        vertical-align: top;\n",
       "    }\n",
       "\n",
       "    .dataframe thead th {\n",
       "        text-align: right;\n",
       "    }\n",
       "</style>\n",
       "<table border=\"1\" class=\"dataframe\">\n",
       "  <thead>\n",
       "    <tr style=\"text-align: right;\">\n",
       "      <th></th>\n",
       "      <th>eventId</th>\n",
       "      <th>from</th>\n",
       "      <th>to</th>\n",
       "    </tr>\n",
       "  </thead>\n",
       "  <tbody>\n",
       "    <tr>\n",
       "      <th>30</th>\n",
       "      <td>20001207X03768</td>\n",
       "      <td>Weathercondition</td>\n",
       "      <td>Inflightencounterwithweather</td>\n",
       "    </tr>\n",
       "    <tr>\n",
       "      <th>31</th>\n",
       "      <td>20001207X03768</td>\n",
       "      <td>Seatbelt</td>\n",
       "      <td>Inflightencounterwithweather</td>\n",
       "    </tr>\n",
       "    <tr>\n",
       "      <th>132</th>\n",
       "      <td>20001213X32573</td>\n",
       "      <td>Lightcondition</td>\n",
       "      <td>Inflightencounterwithweather</td>\n",
       "    </tr>\n",
       "    <tr>\n",
       "      <th>133</th>\n",
       "      <td>20001213X32573</td>\n",
       "      <td>Weathercondition</td>\n",
       "      <td>Inflightencounterwithweather</td>\n",
       "    </tr>\n",
       "    <tr>\n",
       "      <th>192</th>\n",
       "      <td>20001212X16941</td>\n",
       "      <td>Weathercondition</td>\n",
       "      <td>Inflightencounterwithweather</td>\n",
       "    </tr>\n",
       "    <tr>\n",
       "      <th>...</th>\n",
       "      <td>...</td>\n",
       "      <td>...</td>\n",
       "      <td>...</td>\n",
       "    </tr>\n",
       "    <tr>\n",
       "      <th>11095</th>\n",
       "      <td>20001208X07667</td>\n",
       "      <td>Weathercondition</td>\n",
       "      <td>Inflightencounterwithweather</td>\n",
       "    </tr>\n",
       "    <tr>\n",
       "      <th>11096</th>\n",
       "      <td>20001208X07667</td>\n",
       "      <td>Crewgroupcoordination</td>\n",
       "      <td>Inflightencounterwithweather</td>\n",
       "    </tr>\n",
       "    <tr>\n",
       "      <th>11156</th>\n",
       "      <td>20001211X10090</td>\n",
       "      <td>Weathercondition</td>\n",
       "      <td>Inflightencounterwithweather</td>\n",
       "    </tr>\n",
       "    <tr>\n",
       "      <th>11157</th>\n",
       "      <td>20001211X10090</td>\n",
       "      <td>Flightintoadverseweather</td>\n",
       "      <td>Inflightencounterwithweather</td>\n",
       "    </tr>\n",
       "    <tr>\n",
       "      <th>11234</th>\n",
       "      <td>20001213X34548</td>\n",
       "      <td>Instructionswrittenverbal</td>\n",
       "      <td>Inflightencounterwithweather</td>\n",
       "    </tr>\n",
       "  </tbody>\n",
       "</table>\n",
       "<p>417 rows × 3 columns</p>\n",
       "</div>"
      ],
      "text/plain": [
       "              eventId                       from                            to\n",
       "30     20001207X03768           Weathercondition  Inflightencounterwithweather\n",
       "31     20001207X03768                   Seatbelt  Inflightencounterwithweather\n",
       "132    20001213X32573             Lightcondition  Inflightencounterwithweather\n",
       "133    20001213X32573           Weathercondition  Inflightencounterwithweather\n",
       "192    20001212X16941           Weathercondition  Inflightencounterwithweather\n",
       "...               ...                        ...                           ...\n",
       "11095  20001208X07667           Weathercondition  Inflightencounterwithweather\n",
       "11096  20001208X07667      Crewgroupcoordination  Inflightencounterwithweather\n",
       "11156  20001211X10090           Weathercondition  Inflightencounterwithweather\n",
       "11157  20001211X10090   Flightintoadverseweather  Inflightencounterwithweather\n",
       "11234  20001213X34548  Instructionswrittenverbal  Inflightencounterwithweather\n",
       "\n",
       "[417 rows x 3 columns]"
      ]
     },
     "execution_count": 270,
     "metadata": {},
     "output_type": "execute_result"
    }
   ],
   "source": [
    "df_records[df_records['to'] == 'Inflightencounterwithweather']"
   ]
  },
  {
   "cell_type": "code",
   "execution_count": 271,
   "metadata": {},
   "outputs": [
    {
     "data": {
      "text/plain": [
       "[array(['Weatherradar', 0.95], dtype=object),\n",
       " array(['Inflightweatheradvisories', 0.95], dtype=object),\n",
       " array(['Meteorologicalservice', 0.95], dtype=object),\n",
       " array(['Preflightbriefingservice', 0.95], dtype=object),\n",
       " array(['Flightnavigationinstrumentsairspeedindicator', 0.95], dtype=object),\n",
       " array(['Weatherforecast', 0.95], dtype=object),\n",
       " array(['Miscellaneousequipmentfurnishingsfirstaidequipment', 0.95],\n",
       "       dtype=object),\n",
       " array(['Flightcontrolelevatorsurface', 0.95], dtype=object),\n",
       " array(['Pressure', 0.95], dtype=object),\n",
       " array(['Flightintoadverseweather', 0.9230769230769231], dtype=object),\n",
       " array(['Seatbeltsign', 0.8571428571428571], dtype=object),\n",
       " array(['Passengerbriefing', 0.8333333333333334], dtype=object),\n",
       " array(['Hazardousweatheradvisory', 0.8333333333333334], dtype=object),\n",
       " array(['Seatbelt', 0.8292682926829268], dtype=object),\n",
       " array(['Flightintoknownadverseweather', 0.6666666666666666], dtype=object),\n",
       " array(['Crewgroupbriefing', 0.625], dtype=object),\n",
       " array(['Weatherevaluation', 0.6], dtype=object),\n",
       " array(['Weathercondition', 0.5722222222222222], dtype=object),\n",
       " array(['Facilityinadequateinstrumentlocation', 0.5], dtype=object),\n",
       " array(['Inflightweatheravoidanceassistance', 0.5], dtype=object),\n",
       " array(['Weatherobservation', 0.5], dtype=object),\n",
       " array(['Dispatch', 0.5], dtype=object),\n",
       " array(['Disturbance', 0.5], dtype=object),\n",
       " array(['Inadequatetransitionupgradetraining', 0.5], dtype=object),\n",
       " array(['Airportfacilities', 0.4], dtype=object),\n",
       " array(['Flightadvisories', 0.3333333333333333], dtype=object),\n",
       " array(['Inadequatesurveillanceofoperationinsufficientstaff',\n",
       "        0.3333333333333333], dtype=object),\n",
       " array(['Miscellaneousequipmentfurnishingsseatbelt', 0.3333333333333333],\n",
       "       dtype=object),\n",
       " array(['Inflightplanningdecision', 0.3235294117647059], dtype=object),\n",
       " array(['Antiicedeicesystem', 0.3], dtype=object),\n",
       " array(['Safetyadvisory', 0.2857142857142857], dtype=object),\n",
       " array(['Informationunclear', 0.2857142857142857], dtype=object),\n",
       " array(['Interpretationofinstructions', 0.2857142857142857], dtype=object),\n",
       " array(['Descent', 0.25], dtype=object),\n",
       " array(['Physicalimpairment', 0.25], dtype=object),\n",
       " array(['Instructionswrittenverbal', 0.24324324324324326], dtype=object),\n",
       " array(['Selfinducedpressure', 0.2], dtype=object),\n",
       " array(['Dispatchprocedures', 0.2], dtype=object),\n",
       " array(['Inadequatetrainingemergencyprocedures', 0.2], dtype=object),\n",
       " array(['Plannedapproach', 0.2], dtype=object),\n",
       " array(['Informationunavailable', 0.2], dtype=object),\n",
       " array(['Overconfidenceinpersonalability', 0.2], dtype=object),\n",
       " array(['Unsafehazardousconditionwarning', 0.1875], dtype=object),\n",
       " array(['Judgment', 0.16666666666666666], dtype=object),\n",
       " array(['CommunicationsinformationATC', 0.16666666666666666], dtype=object),\n",
       " array(['Preflightplanningpreparation', 0.15384615384615385], dtype=object),\n",
       " array(['Informationinsufficient', 0.13333333333333333], dtype=object),\n",
       " array(['Radiocommunications', 0.125], dtype=object),\n",
       " array(['Properassistance', 0.1111111111111111], dtype=object),\n",
       " array(['InsufficientstandardsrequirementsOperationoperator', 0.1],\n",
       "       dtype=object),\n",
       " array(['Communications', 0.09523809523809523], dtype=object),\n",
       " array(['Wing', 0.08333333333333333], dtype=object),\n",
       " array(['Lightcondition', 0.08139534883720931], dtype=object),\n",
       " array(['Planningdecision', 0.07692307692307693], dtype=object),\n",
       " array(['Compensationforwindconditions', 0.07692307692307693], dtype=object),\n",
       " array(['Crewgroupcoordination', 0.07407407407407407], dtype=object),\n",
       " array(['Equipmentother', 0.07142857142857142], dtype=object),\n",
       " array(['Proceduresdirectives', 0.06206896551724138], dtype=object),\n",
       " array(['Conditionsstepsinsufficientlydefined', 0.05555555555555555],\n",
       "       dtype=object),\n",
       " array(['Unsafehazardouscondition', 0.05263157894736842], dtype=object),\n",
       " array(['Aircraftcontrol', 0.047619047619047616], dtype=object),\n",
       " array(['Airspeed', 0.041666666666666664], dtype=object),\n",
       " array(['Procedureinadequate', 0.038461538461538464], dtype=object),\n",
       " array(['Miscellaneous', 0.034482758620689655], dtype=object),\n",
       " array(['Remedialaction', 0.03125], dtype=object),\n",
       " array(['Visuallookout', 0.029411764705882353], dtype=object),\n",
       " array(['Clearance', 0.022727272727272728], dtype=object),\n",
       " array(['Terraincondition', 0.022727272727272728], dtype=object),\n",
       " array(['Object', 0.010638297872340425], dtype=object),\n",
       " array(['Miscellaneousother', 0.0040650406504065045], dtype=object)]"
      ]
     },
     "execution_count": 271,
     "metadata": {},
     "output_type": "execute_result"
    }
   ],
   "source": [
    "parentInfo = df_edges[df_edges['toID'] == 'Inflightencounterwithweather'][['fromID', 'count']].values\n",
    "sorted(parentInfo, key=lambda x: x[1], reverse = True)"
   ]
  },
  {
   "cell_type": "markdown",
   "metadata": {},
   "source": [
    "### Construct Bayesian network with PySMILE library"
   ]
  },
  {
   "cell_type": "markdown",
   "metadata": {},
   "source": [
    "#### Construct XDSL file to be fed into PySMILE"
   ]
  },
  {
   "cell_type": "code",
   "execution_count": 272,
   "metadata": {},
   "outputs": [],
   "source": [
    "import numpy as np\n",
    "from scipy.optimize import minimize\n",
    "import scipy.stats\n",
    "\n",
    "def obj(x, normProb, probs):\n",
    "    diff = (1 + np.exp(x[0]+x[1]))/(1 + np.exp(x[0]/normProb + x[1])) - probs\n",
    "    return np.sum(diff**2)\n",
    "\n",
    "def obj_beta(x, normProb, probs):\n",
    "    pred = []\n",
    "    for i in normProb:\n",
    "        beta = scipy.stats.beta.cdf(i, a = x[0], b = x[1])\n",
    "        #print (beta)\n",
    "        pred.append(beta)\n",
    "            \n",
    "    #print (scipy.stats.beta.cdf(normProb, a = 1, b = 1))\n",
    "    #diff = scipy.stats.beta.cdf(normProb, a = x[0], b = x[1]) - probs\n",
    "    diff = pred - probs\n",
    "    return np.mean(diff**2)\n",
    "\n",
    "def CPT_estimation(x, a, b):\n",
    "    return scipy.stats.beta.cdf(x, a = a, b = b)"
   ]
  },
  {
   "cell_type": "code",
   "execution_count": 273,
   "metadata": {},
   "outputs": [],
   "source": [
    "def binaryConversion(value, n):\n",
    "    m = eval('\"' + \"{0:0\" + str(n) + \"b}\" + '\"').format(value) ## binary representation\n",
    "    characters = [int(char) for char in str(m)]\n",
    "    res = np.array(characters)\n",
    "    return res"
   ]
  },
  {
   "cell_type": "code",
   "execution_count": 306,
   "metadata": {},
   "outputs": [],
   "source": [
    "dictParameter = {}\n",
    "\n",
    "def constructCPT(parentInfo, toID):\n",
    "    n = parentInfo.shape[0]\n",
    "    count = parentInfo[:, 1]\n",
    "\n",
    "    start = 2**n - 1\n",
    "    \n",
    "    CPT = []\n",
    "    lambda_val = sum(count) - 1\n",
    "    squared_error = []\n",
    "    for i in range(start, -1, -1):\n",
    "        scheme = binaryConversion(i, n)\n",
    "        \n",
    "        if sum(scheme) == 1 or sum(scheme) == 0:\n",
    "            Yes_prob = np.sum(np.multiply(scheme, count))\n",
    "        else:\n",
    "            totalContribution = np.sum(count)\n",
    "            normContribution = count/totalContribution\n",
    "            \n",
    "            #normContribution = np.array([min(normContribution), max(normContribution)])\n",
    "            #probs = np.array([min(count), max(count)])\n",
    "            \n",
    "            normContribution = np.array(normContribution)\n",
    "            probs = np.array(count)\n",
    "            \n",
    "            if toID not in dictParameter.keys():\n",
    "                ## calibrate the parameters\n",
    "                x_0 = [2, 1]\n",
    "                \n",
    "                #res = minimize(obj, x_0, args = (normContribution, probs), method='Powell', tol=1e-6)\n",
    "                res = minimize(obj_beta, x_0, args = (normContribution, probs), method='Nelder-Mead', tol=1e-7)\n",
    "\n",
    "                a = res.x[0]\n",
    "                b = res.x[1]\n",
    "                \n",
    "                dictParameter[toID] = [a, b]\n",
    "                \n",
    "                #print ('Obj: ', res.fun, 'a:', a, 'b: ', b)\n",
    "                squared_error.append(res.fun)\n",
    "            else:\n",
    "                a = dictParameter[toID][0]\n",
    "                b = dictParameter[toID][1]\n",
    "            \n",
    "            CPT_contribution = np.sum(np.multiply(scheme, count))/totalContribution\n",
    "            Yes_prob = CPT_estimation(CPT_contribution, a, b)\n",
    "            \n",
    "            if Yes_prob < max(np.multiply(scheme, count)):\n",
    "                Yes_prob = max(np.multiply(scheme, count))\n",
    "                \n",
    "            #print (Yes_prob, max(np.multiply(scheme, count)))\n",
    "            \n",
    "            assert Yes_prob >= max(np.multiply(scheme, count))\n",
    "            \n",
    "        No_prob = 1 - Yes_prob\n",
    "        \n",
    "        CPT.append(Yes_prob)\n",
    "        CPT.append(No_prob)\n",
    "    \n",
    "    return CPT, squared_error\n",
    "\n",
    "def occurrenceTimes(toID):\n",
    "    toID = set(df_records[df_records['to'] == toID]['eventId'].values)\n",
    "    fromID = set(df_records[df_records['from'] == toID]['eventId'].values)\n",
    "    return len(toID.union(fromID))\n",
    "\n",
    "def occurrenceTimesFromID(fromID):\n",
    "    return len(set(df_records[df_records['from'] == fromID]['eventId'].values))"
   ]
  },
  {
   "cell_type": "code",
   "execution_count": 165,
   "metadata": {},
   "outputs": [],
   "source": [
    "#parentInfo = df_edges[df_edges['toID'] == 'Fire'][['fromID', 'count']].values\n",
    "#constructCPT(parentInfo, 'Fire')"
   ]
  },
  {
   "cell_type": "markdown",
   "metadata": {},
   "source": [
    "##### Define the denominator to represent the number of flights from 1982 to 2006"
   ]
  },
  {
   "cell_type": "code",
   "execution_count": 277,
   "metadata": {},
   "outputs": [],
   "source": [
    "maxElements = 12\n",
    "\n",
    "def searchThreshold(parentInfo):\n",
    "    threshold = 0\n",
    "    \n",
    "    m = len(np.where(parentInfo[:, 1] > threshold)[0])\n",
    "    \n",
    "    while m > maxElements:\n",
    "        if m < maxElements:\n",
    "            threshold -= min(parentInfo[:, 1])\n",
    "        else:\n",
    "            threshold += min(parentInfo[:, 1])\n",
    "   \n",
    "        m = len(np.where(parentInfo[:, 1] > threshold)[0])\n",
    "    \n",
    "    if threshold > max(parentInfo[:, 1]):\n",
    "        threshold = max(parentInfo[:, 1])\n",
    "    \n",
    "    return threshold"
   ]
  },
  {
   "cell_type": "markdown",
   "metadata": {},
   "source": [
    "###### Compute the total number of scheduled flights within USA"
   ]
  },
  {
   "cell_type": "code",
   "execution_count": 278,
   "metadata": {},
   "outputs": [],
   "source": [
    "departures = pd.read_excel('table_01_37_061019.xlsx')\n",
    "departures.drop(departures.columns[0], axis=1, inplace= True)"
   ]
  },
  {
   "cell_type": "code",
   "execution_count": 279,
   "metadata": {},
   "outputs": [],
   "source": [
    "years = departures.iloc[0].index\n",
    "flights = departures.iloc[0].values"
   ]
  },
  {
   "cell_type": "code",
   "execution_count": 280,
   "metadata": {},
   "outputs": [
    {
     "data": {
      "text/plain": [
       "array([ 4555516.,  5156848.,  5505659.,  6641681.,  6545000.,  6606609.,\n",
       "        7193841.,  7513232.,  8030530.,  8204674.,  8095888.,  8248269.,\n",
       "        8605486.,  8929559.,  8548932.,  8052756.,  8585736.,  9444234.,\n",
       "        9859941.,  9512017., 10985488., 10307025.,  9646132.,  9596396.,\n",
       "        9577700.,  9345013.,  9217652.,  8986825.,  8965387.,  9276526.,\n",
       "        9305375.,  9559858.])"
      ]
     },
     "execution_count": 280,
     "metadata": {},
     "output_type": "execute_result"
    }
   ],
   "source": [
    "flights"
   ]
  },
  {
   "cell_type": "code",
   "execution_count": 281,
   "metadata": {},
   "outputs": [],
   "source": [
    "years = [int(i) for i in years]"
   ]
  },
  {
   "cell_type": "code",
   "execution_count": 282,
   "metadata": {},
   "outputs": [
    {
     "data": {
      "text/plain": [
       "Text(0, 0.5, 'Scheduled flights')"
      ]
     },
     "execution_count": 282,
     "metadata": {},
     "output_type": "execute_result"
    },
    {
     "data": {
      "image/png": "[encoded data removed]",
      "text/plain": [
       "<Figure size 720x432 with 1 Axes>"
      ]
     },
     "metadata": {
      "needs_background": "light"
     },
     "output_type": "display_data"
    }
   ],
   "source": [
    "plt.figure(figsize=(10, 6))\n",
    "sns.lineplot(years, flights, marker = 'o', markersize = 8)\n",
    "plt.xlabel('Year', fontsize = 16)\n",
    "plt.ylabel('Scheduled flights', fontsize = 16)"
   ]
  },
  {
   "cell_type": "code",
   "execution_count": 283,
   "metadata": {},
   "outputs": [
    {
     "data": {
      "image/png": "[encoded data removed]",
      "text/plain": [
       "<Figure size 792x432 with 1 Axes>"
      ]
     },
     "metadata": {
      "needs_background": "light"
     },
     "output_type": "display_data"
    }
   ],
   "source": [
    "from scipy.interpolate import interp1d\n",
    "\n",
    "f = interp1d(years, flights)\n",
    "xnew = np.linspace(1975, 2018, num = 44, endpoint=True)\n",
    "\n",
    "fig, ax = plt.subplots(figsize=(11, 6))\n",
    "plt.plot(years, flights, 'o', xnew, f(xnew), '-', markersize = 7, linewidth=2)\n",
    "plt.legend(['Data', 'Linear interpolation'], loc='best', fontsize = 14)\n",
    "plt.xlabel('Year', fontsize = 18, fontweight = 'bold')\n",
    "plt.ylabel('Total performed aircraft departures', fontsize = 16, fontweight = 'bold')\n",
    "ax.tick_params(axis='both', which='major', labelsize=12)\n",
    "plt.tight_layout()\n",
    "\n",
    "plt.savefig('departures.pdf')"
   ]
  },
  {
   "cell_type": "code",
   "execution_count": 284,
   "metadata": {},
   "outputs": [],
   "source": [
    "totalFlights = 0\n",
    "for i in range(1982, 2007, 1):\n",
    "    totalFlights += f(i)"
   ]
  },
  {
   "cell_type": "code",
   "execution_count": 285,
   "metadata": {},
   "outputs": [
    {
     "name": "stdout",
     "output_type": "stream",
     "text": [
      "The total number of flights from 1982 to 2006 is 184517128.0\n"
     ]
    }
   ],
   "source": [
    "totalFlights = round(totalFlights)\n",
    "print ('The total number of flights from 1982 to 2006 is', totalFlights)"
   ]
  },
  {
   "cell_type": "markdown",
   "metadata": {},
   "source": [
    "##### Prior probability estimation"
   ]
  },
  {
   "cell_type": "code",
   "execution_count": 287,
   "metadata": {},
   "outputs": [],
   "source": [
    "event = 'Fire'"
   ]
  },
  {
   "cell_type": "code",
   "execution_count": 288,
   "metadata": {},
   "outputs": [
    {
     "name": "stdout",
     "output_type": "stream",
     "text": [
      "Total occurrences of event Fire: 102\n",
      "Prior probability of fire occurrence is:  5.527942099770814e-07\n"
     ]
    }
   ],
   "source": [
    "eventID_list = set(df_records[(df_records['from'] == event) | (df_records['to'] == event)]['eventId'].values)\n",
    "totalOccurrences = len(eventID_list)\n",
    "prob_yes = totalOccurrences/totalFlights\n",
    "prob_no = 1 - prob_yes\n",
    "print ('Total occurrences of event %s: %d' % (event, totalOccurrences))\n",
    "print ('Prior probability of fire occurrence is: ', prob_yes)"
   ]
  },
  {
   "cell_type": "code",
   "execution_count": 289,
   "metadata": {},
   "outputs": [
    {
     "data": {
      "text/html": [
       "<div>\n",
       "<style scoped>\n",
       "    .dataframe tbody tr th:only-of-type {\n",
       "        vertical-align: middle;\n",
       "    }\n",
       "\n",
       "    .dataframe tbody tr th {\n",
       "        vertical-align: top;\n",
       "    }\n",
       "\n",
       "    .dataframe thead th {\n",
       "        text-align: right;\n",
       "    }\n",
       "</style>\n",
       "<table border=\"1\" class=\"dataframe\">\n",
       "  <thead>\n",
       "    <tr style=\"text-align: right;\">\n",
       "      <th></th>\n",
       "      <th>eventId</th>\n",
       "      <th>from</th>\n",
       "      <th>to</th>\n",
       "    </tr>\n",
       "  </thead>\n",
       "  <tbody>\n",
       "    <tr>\n",
       "      <th>8926</th>\n",
       "      <td>20050209X00169</td>\n",
       "      <td>Flightcrew</td>\n",
       "      <td>Visuallookout</td>\n",
       "    </tr>\n",
       "    <tr>\n",
       "      <th>8927</th>\n",
       "      <td>20050209X00169</td>\n",
       "      <td>Airportpersonnel</td>\n",
       "      <td>Airport</td>\n",
       "    </tr>\n",
       "    <tr>\n",
       "      <th>8928</th>\n",
       "      <td>20050209X00169</td>\n",
       "      <td>FAAotherorganization</td>\n",
       "      <td>Airport</td>\n",
       "    </tr>\n",
       "    <tr>\n",
       "      <th>8929</th>\n",
       "      <td>20050209X00169</td>\n",
       "      <td>Visuallookout</td>\n",
       "      <td>Miscellaneousother</td>\n",
       "    </tr>\n",
       "    <tr>\n",
       "      <th>8930</th>\n",
       "      <td>20050209X00169</td>\n",
       "      <td>Airport</td>\n",
       "      <td>Miscellaneousother</td>\n",
       "    </tr>\n",
       "    <tr>\n",
       "      <th>8931</th>\n",
       "      <td>20050209X00169</td>\n",
       "      <td>Miscellaneousother</td>\n",
       "      <td>Noneaircraftdamage</td>\n",
       "    </tr>\n",
       "    <tr>\n",
       "      <th>8932</th>\n",
       "      <td>20050209X00169</td>\n",
       "      <td>Miscellaneousother</td>\n",
       "      <td>Noinjury</td>\n",
       "    </tr>\n",
       "  </tbody>\n",
       "</table>\n",
       "</div>"
      ],
      "text/plain": [
       "             eventId                  from                  to\n",
       "8926  20050209X00169            Flightcrew       Visuallookout\n",
       "8927  20050209X00169      Airportpersonnel             Airport\n",
       "8928  20050209X00169  FAAotherorganization             Airport\n",
       "8929  20050209X00169         Visuallookout  Miscellaneousother\n",
       "8930  20050209X00169               Airport  Miscellaneousother\n",
       "8931  20050209X00169    Miscellaneousother  Noneaircraftdamage\n",
       "8932  20050209X00169    Miscellaneousother            Noinjury"
      ]
     },
     "execution_count": 289,
     "metadata": {},
     "output_type": "execute_result"
    }
   ],
   "source": [
    "df_records[df_records['eventId'] == '20050209X00169']"
   ]
  },
  {
   "cell_type": "markdown",
   "metadata": {},
   "source": [
    "##### Conditional probability estimation"
   ]
  },
  {
   "cell_type": "code",
   "execution_count": 290,
   "metadata": {},
   "outputs": [
    {
     "name": "stdout",
     "output_type": "stream",
     "text": [
      "The maximum number of occurrence is 32\n"
     ]
    }
   ],
   "source": [
    "causes = set(df_records[df_records['to'] == event]['from'].values)\n",
    "\n",
    "total = 0\n",
    "maxOccurrence = -1\n",
    "prob_set = []\n",
    "for cause in causes:\n",
    "    cause_occurrences = len(set(df_records[(df_records['from'] == cause) & (df_records['to'] == event)]['eventId'].values))\n",
    "    \n",
    "    #print ('Cause: ', dictNodeLabel[cause], ', Occurrence: ', cause_occurrences, ', Prob: ',\n",
    "    # cause_occurrences/totalOccurrences)\n",
    "    \n",
    "    total += cause_occurrences/totalOccurrences\n",
    "    prob_set.append(cause_occurrences/totalOccurrences)\n",
    "    \n",
    "    \n",
    "    if cause_occurrences > maxOccurrence:\n",
    "        maxOccurrence = cause_occurrences\n",
    "        \n",
    "print ('The maximum number of occurrence is', maxOccurrence)"
   ]
  },
  {
   "cell_type": "code",
   "execution_count": 291,
   "metadata": {},
   "outputs": [
    {
     "data": {
      "text/plain": [
       "{0.00980392156862745,\n",
       " 0.0196078431372549,\n",
       " 0.029411764705882353,\n",
       " 0.0392156862745098,\n",
       " 0.049019607843137254,\n",
       " 0.058823529411764705,\n",
       " 0.08823529411764706,\n",
       " 0.3137254901960784}"
      ]
     },
     "execution_count": 291,
     "metadata": {},
     "output_type": "execute_result"
    }
   ],
   "source": [
    "set(prob_set)"
   ]
  },
  {
   "cell_type": "code",
   "execution_count": 292,
   "metadata": {},
   "outputs": [
    {
     "data": {
      "text/plain": [
       "1.735294117647057"
      ]
     },
     "execution_count": 292,
     "metadata": {},
     "output_type": "execute_result"
    }
   ],
   "source": [
    "total"
   ]
  },
  {
   "cell_type": "code",
   "execution_count": 293,
   "metadata": {},
   "outputs": [],
   "source": [
    "conditional_prob = maxOccurrence/totalOccurrences"
   ]
  },
  {
   "cell_type": "code",
   "execution_count": 294,
   "metadata": {},
   "outputs": [
    {
     "data": {
      "text/plain": [
       "102"
      ]
     },
     "execution_count": 294,
     "metadata": {},
     "output_type": "execute_result"
    }
   ],
   "source": [
    "totalOccurrences"
   ]
  },
  {
   "cell_type": "code",
   "execution_count": 295,
   "metadata": {},
   "outputs": [
    {
     "data": {
      "text/plain": [
       "0.3137254901960784"
      ]
     },
     "execution_count": 295,
     "metadata": {},
     "output_type": "execute_result"
    }
   ],
   "source": [
    "conditional_prob"
   ]
  },
  {
   "cell_type": "markdown",
   "metadata": {},
   "source": [
    "##### Generate BN"
   ]
  },
  {
   "cell_type": "code",
   "execution_count": 298,
   "metadata": {},
   "outputs": [],
   "source": [
    "noFlights = totalFlights"
   ]
  },
  {
   "cell_type": "markdown",
   "metadata": {},
   "source": [
    "##### Remove cycles in the Bayesian network"
   ]
  },
  {
   "cell_type": "code",
   "execution_count": 299,
   "metadata": {},
   "outputs": [],
   "source": [
    "cyclesRows = df_edges[df_edges['fromID'] == df_edges['toID']]"
   ]
  },
  {
   "cell_type": "code",
   "execution_count": 300,
   "metadata": {},
   "outputs": [],
   "source": [
    "df_edges.drop(cyclesRows.index, inplace = True)"
   ]
  },
  {
   "cell_type": "code",
   "execution_count": 301,
   "metadata": {},
   "outputs": [],
   "source": [
    "for i in cyclesRows['fromID']:\n",
    "    dictEdges.pop(str(i) + '->' + str(i))"
   ]
  },
  {
   "cell_type": "code",
   "execution_count": 324,
   "metadata": {
    "scrolled": false
   },
   "outputs": [],
   "source": [
    "XDSL = \"\"\"<?xml version=\"1.0\" encoding=\"ISO-8859-1\"?>\n",
    "<!-- This network was created in GeNIe Academic, which can be used for educational and research purposes only -->\n",
    "<smile version=\"1.0\" id=\"Network1\" numsamples=\"99999999\" discsamples=\"99999999\"> \"\"\"\n",
    "\n",
    "nodeConstructor = \"\\n\\t<nodes>\"\n",
    "extensions = '\\n\\t<extensions>'\n",
    "extensions += \"\"\"\\n\\t\\t<genie version=\"1.0\" app=\"GeNIe 2.4.4420.0 ACADEMIC\" name=\"Network1\" faultnameformat=\"nodestate\">\"\"\"\n",
    "\n",
    "networkNodes = set([])\n",
    "allNodeNames = []\n",
    "\n",
    "## add parent nodes\n",
    "for key, value in dictEdges.items():\n",
    "    fromID, toID = key.split('->')\n",
    "    \n",
    "    allNodeNames.append(fromID)\n",
    "    allNodeNames.append(toID)\n",
    "    \n",
    "    parentInfo = df_edges[df_edges['toID'] == fromID][['fromID', 'count']].values\n",
    "        \n",
    "    if fromID not in networkNodes and len(parentInfo) == 0: ## if the node has no parents, add it first\n",
    "        #print ('... ', fromID)\n",
    "\n",
    "        ## compute prior probabilities\n",
    "        Yes_prob = occurrenceTimesFromID(fromID)/noFlights\n",
    "        No_prob = 1 - Yes_prob\n",
    "\n",
    "        ## construct parent nodes\n",
    "        nodeConstructor += \"\\n\\t\\t<cpt id=\" + '\"' + fromID + '\"' + \"\"\">\"\"\"\n",
    "        nodeConstructor += \"\"\"\\n\\t\\t\\t<state id=\"Yes\" />\\n\\t\\t\\t<state id=\"No\" />\"\"\"\n",
    "        nodeConstructor += \"\\n\\t\\t\\t<probabilities>\" + str(Yes_prob) + \" \" +  str(No_prob) + \"</probabilities>\"\n",
    "        nodeConstructor += '\\n\\t\\t</cpt>'\n",
    "\n",
    "        ## add extensions for parent nodes\n",
    "        extensions += \"\\n\\t\\t\\t<node id=\" +  '\"' + fromID + '\"' + \">\"\n",
    "        extensions += \"\\n\\t\\t\\t\\t<name>\" + dictNodeLabel[fromID] + \"</name>\"\n",
    "        extensions += \"\"\"\\n\\t\\t\\t\\t<interior color=\"e5f6f7\" />\"\"\"\n",
    "        extensions += \"\"\"\\n\\t\\t\\t\\t<outline color=\"000080\" />\"\"\"\n",
    "        extensions += \"\"\"\\n\\t\\t\\t\\t<font color=\"000000\" name=\"Arial\" size=\"8\" />\"\"\"\n",
    "        extensions += \"\\n\\t\\t\\t\\t<position> 250 160 426 251 </position>\"\n",
    "        extensions += \"\"\"\\n\\t\\t\\t\\t<barchart active=\"true\" width=\"258\" height=\"64\" />\"\"\"\n",
    "        extensions += \"\\n\\t\\t\\t</node>\"\n",
    "\n",
    "        networkNodes.add(fromID)\n",
    "\n",
    "allNodeNames = set(allNodeNames)\n",
    "\n",
    "error = []\n",
    "while len(networkNodes) < len(allNodeNames):\n",
    "    \n",
    "    ## add child nodes\n",
    "    for key, value in dictEdges.items():\n",
    "        fromID, toID = key.split('->')\n",
    "\n",
    "        parentInfo = df_edges[df_edges['toID'] == toID][['fromID', 'count']].values\n",
    "\n",
    "        indexMaxValues = np.where(parentInfo[:, 1] == max(parentInfo[:, 1]))[0]\n",
    "        noMaxValues = len(indexMaxValues)\n",
    "\n",
    "        if noMaxValues > maxElements:\n",
    "            ## inject jitter to the maxvalue\n",
    "            jitter = [random.random() for i in range(noMaxValues)] \n",
    "            jitter = np.array(jitter) * min(parentInfo[:, 1])\n",
    "            parentInfo[indexMaxValues, 1] = parentInfo[indexMaxValues, 1] + jitter\n",
    "\n",
    "        n = parentInfo.shape[0]\n",
    "\n",
    "        if n > maxElements:\n",
    "            delta = searchThreshold(parentInfo)\n",
    "            parentInfo = parentInfo[np.where(parentInfo[:, 1] >= delta), :][0]\n",
    "\n",
    "        parentNodeNames = list(parentInfo[:, 0])\n",
    "        \n",
    "        \n",
    "        if toID not in networkNodes and set(parentNodeNames).issubset(set(networkNodes)):\n",
    "            \n",
    "            #print ('yes----->')\n",
    "\n",
    "            ## build conditional probability table\n",
    "            CPT, obj = constructCPT(parentInfo, toID)\n",
    "            error.append(obj)\n",
    "\n",
    "            CPT_str = list(map(str, CPT))\n",
    "\n",
    "            childDesp = \"\\n\\t\\t<cpt id=\" + '\"' + str(toID) + '\"' + \"\"\">\"\"\"\n",
    "            childDesp += \"\"\"\\n\\t\\t\\t<state id=\"Yes\" />\\n\\t\\t\\t<state id=\"No\" />\"\"\"\n",
    "            childDesp += \"\\n\\t\\t\\t<parents>\" + ' '.join(parentNodeNames) + \"</parents>\"\n",
    "            childDesp += \"\\n\\t\\t\\t<probabilities>\"+ ' '.join(CPT_str)+\"</probabilities>\"\n",
    "            childDesp += \"\\n\\t\\t</cpt>\"\n",
    "\n",
    "            nodeConstructor += childDesp\n",
    "            networkNodes.add(toID)\n",
    "            \n",
    "            #print (len(networkNodes))\n",
    "\n",
    "            ## add child node\n",
    "            extensions += \"\\n\\t\\t\\t<node id=\" +  '\"' + toID + '\"' + \">\"\n",
    "            extensions += \"\\n\\t\\t\\t\\t<name>\" + dictNodeLabel[toID] + \"</name>\"\n",
    "            extensions += \"\"\"\\n\\t\\t\\t\\t<interior color=\"e5f6f7\" />\"\"\"\n",
    "            extensions += \"\"\"\\n\\t\\t\\t\\t<outline color=\"000080\" />\"\"\"\n",
    "            extensions += \"\"\"\\n\\t\\t\\t\\t<font color=\"000000\" name=\"Arial\" size=\"8\" />\"\"\"\n",
    "            extensions += \"\\n\\t\\t\\t\\t<position> 250 160 426 251 </position>\"\n",
    "            extensions += \"\"\"\\n\\t\\t\\t\\t<barchart active=\"true\" width=\"258\" height=\"64\" />\"\"\"\n",
    "            extensions += \"\\n\\t\\t\\t</node>\"\n",
    "            \n",
    "nodeConstructor += \"\\n\\t</nodes>\"\n",
    "extensions += '\\n\\t\\t</genie>'\n",
    "extensions += '\\n\\t</extensions>'"
   ]
  },
  {
   "cell_type": "code",
   "execution_count": 325,
   "metadata": {},
   "outputs": [],
   "source": [
    "error = [ele for ele in error if ele != []]\n",
    "error = sum(error, [])"
   ]
  },
  {
   "cell_type": "code",
   "execution_count": 326,
   "metadata": {},
   "outputs": [
    {
     "name": "stdout",
     "output_type": "stream",
     "text": [
      "The average mean squared error of all predictions is 2.8120933216734857e-10, and the standard deviation is 0.0\n"
     ]
    }
   ],
   "source": [
    "print ('The average mean squared error of all predictions is {}, and the standard deviation is {}'.\\\n",
    "       format(np.mean(error), np.std(error)))"
   ]
  },
  {
   "cell_type": "code",
   "execution_count": 327,
   "metadata": {},
   "outputs": [
    {
     "data": {
      "text/plain": [
       "set()"
      ]
     },
     "execution_count": 327,
     "metadata": {},
     "output_type": "execute_result"
    }
   ],
   "source": [
    "set(allNodeNames) - set(networkNodes)"
   ]
  },
  {
   "cell_type": "code",
   "execution_count": 328,
   "metadata": {},
   "outputs": [
    {
     "data": {
      "text/plain": [
       "array(['Miscellaneousequipmentfurnishingswheelchocks',\n",
       "       'Proceduresdirectives', 'Planningdecision',\n",
       "       'Unsafehazardouscondition', 'Lackoftotalexperienceintypeoperation',\n",
       "       'Object', 'Clearance', 'Identificationofaircraftvisually',\n",
       "       'Inadequatetraining', 'Procedureinadequate',\n",
       "       'Airportfacilitiestaxiwaycondition', 'Aircrafthandling',\n",
       "       'Visuallookout'], dtype=object)"
      ]
     },
     "execution_count": 328,
     "metadata": {},
     "output_type": "execute_result"
    }
   ],
   "source": [
    "df_edges[df_edges['toID'] == 'Propellerblastorjetexhaustsuction']['fromID'].values"
   ]
  },
  {
   "cell_type": "code",
   "execution_count": 329,
   "metadata": {},
   "outputs": [
    {
     "data": {
      "text/html": [
       "<div>\n",
       "<style scoped>\n",
       "    .dataframe tbody tr th:only-of-type {\n",
       "        vertical-align: middle;\n",
       "    }\n",
       "\n",
       "    .dataframe tbody tr th {\n",
       "        vertical-align: top;\n",
       "    }\n",
       "\n",
       "    .dataframe thead th {\n",
       "        text-align: right;\n",
       "    }\n",
       "</style>\n",
       "<table border=\"1\" class=\"dataframe\">\n",
       "  <thead>\n",
       "    <tr style=\"text-align: right;\">\n",
       "      <th></th>\n",
       "      <th>name</th>\n",
       "      <th>fromID</th>\n",
       "      <th>toID</th>\n",
       "      <th>count</th>\n",
       "    </tr>\n",
       "  </thead>\n",
       "  <tbody>\n",
       "    <tr>\n",
       "      <th>168</th>\n",
       "      <td>Miscellaneousequipmentfurnishingswheelchocks-&gt;...</td>\n",
       "      <td>Miscellaneousequipmentfurnishingswheelchocks</td>\n",
       "      <td>Propellerblastorjetexhaustsuction</td>\n",
       "      <td>0.500000</td>\n",
       "    </tr>\n",
       "    <tr>\n",
       "      <th>169</th>\n",
       "      <td>Proceduresdirectives-&gt;Propellerblastorjetexhau...</td>\n",
       "      <td>Proceduresdirectives</td>\n",
       "      <td>Propellerblastorjetexhaustsuction</td>\n",
       "      <td>0.027586</td>\n",
       "    </tr>\n",
       "    <tr>\n",
       "      <th>386</th>\n",
       "      <td>Planningdecision-&gt;Propellerblastorjetexhaustsu...</td>\n",
       "      <td>Planningdecision</td>\n",
       "      <td>Propellerblastorjetexhaustsuction</td>\n",
       "      <td>0.153846</td>\n",
       "    </tr>\n",
       "    <tr>\n",
       "      <th>670</th>\n",
       "      <td>Unsafehazardouscondition-&gt;Propellerblastorjete...</td>\n",
       "      <td>Unsafehazardouscondition</td>\n",
       "      <td>Propellerblastorjetexhaustsuction</td>\n",
       "      <td>0.052632</td>\n",
       "    </tr>\n",
       "    <tr>\n",
       "      <th>1552</th>\n",
       "      <td>Lackoftotalexperienceintypeoperation-&gt;Propelle...</td>\n",
       "      <td>Lackoftotalexperienceintypeoperation</td>\n",
       "      <td>Propellerblastorjetexhaustsuction</td>\n",
       "      <td>0.333333</td>\n",
       "    </tr>\n",
       "    <tr>\n",
       "      <th>1602</th>\n",
       "      <td>Object-&gt;Propellerblastorjetexhaustsuction</td>\n",
       "      <td>Object</td>\n",
       "      <td>Propellerblastorjetexhaustsuction</td>\n",
       "      <td>0.021277</td>\n",
       "    </tr>\n",
       "    <tr>\n",
       "      <th>1603</th>\n",
       "      <td>Clearance-&gt;Propellerblastorjetexhaustsuction</td>\n",
       "      <td>Clearance</td>\n",
       "      <td>Propellerblastorjetexhaustsuction</td>\n",
       "      <td>0.022727</td>\n",
       "    </tr>\n",
       "    <tr>\n",
       "      <th>1604</th>\n",
       "      <td>Identificationofaircraftvisually-&gt;Propellerbla...</td>\n",
       "      <td>Identificationofaircraftvisually</td>\n",
       "      <td>Propellerblastorjetexhaustsuction</td>\n",
       "      <td>0.125000</td>\n",
       "    </tr>\n",
       "    <tr>\n",
       "      <th>1955</th>\n",
       "      <td>Inadequatetraining-&gt;Propellerblastorjetexhaust...</td>\n",
       "      <td>Inadequatetraining</td>\n",
       "      <td>Propellerblastorjetexhaustsuction</td>\n",
       "      <td>0.090909</td>\n",
       "    </tr>\n",
       "    <tr>\n",
       "      <th>1956</th>\n",
       "      <td>Procedureinadequate-&gt;Propellerblastorjetexhaus...</td>\n",
       "      <td>Procedureinadequate</td>\n",
       "      <td>Propellerblastorjetexhaustsuction</td>\n",
       "      <td>0.019231</td>\n",
       "    </tr>\n",
       "    <tr>\n",
       "      <th>2868</th>\n",
       "      <td>Airportfacilitiestaxiwaycondition-&gt;Propellerbl...</td>\n",
       "      <td>Airportfacilitiestaxiwaycondition</td>\n",
       "      <td>Propellerblastorjetexhaustsuction</td>\n",
       "      <td>0.111111</td>\n",
       "    </tr>\n",
       "    <tr>\n",
       "      <th>2869</th>\n",
       "      <td>Aircrafthandling-&gt;Propellerblastorjetexhaustsu...</td>\n",
       "      <td>Aircrafthandling</td>\n",
       "      <td>Propellerblastorjetexhaustsuction</td>\n",
       "      <td>0.038462</td>\n",
       "    </tr>\n",
       "    <tr>\n",
       "      <th>2947</th>\n",
       "      <td>Visuallookout-&gt;Propellerblastorjetexhaustsuction</td>\n",
       "      <td>Visuallookout</td>\n",
       "      <td>Propellerblastorjetexhaustsuction</td>\n",
       "      <td>0.014706</td>\n",
       "    </tr>\n",
       "  </tbody>\n",
       "</table>\n",
       "</div>"
      ],
      "text/plain": [
       "                                                   name  \\\n",
       "168   Miscellaneousequipmentfurnishingswheelchocks->...   \n",
       "169   Proceduresdirectives->Propellerblastorjetexhau...   \n",
       "386   Planningdecision->Propellerblastorjetexhaustsu...   \n",
       "670   Unsafehazardouscondition->Propellerblastorjete...   \n",
       "1552  Lackoftotalexperienceintypeoperation->Propelle...   \n",
       "1602          Object->Propellerblastorjetexhaustsuction   \n",
       "1603       Clearance->Propellerblastorjetexhaustsuction   \n",
       "1604  Identificationofaircraftvisually->Propellerbla...   \n",
       "1955  Inadequatetraining->Propellerblastorjetexhaust...   \n",
       "1956  Procedureinadequate->Propellerblastorjetexhaus...   \n",
       "2868  Airportfacilitiestaxiwaycondition->Propellerbl...   \n",
       "2869  Aircrafthandling->Propellerblastorjetexhaustsu...   \n",
       "2947   Visuallookout->Propellerblastorjetexhaustsuction   \n",
       "\n",
       "                                            fromID  \\\n",
       "168   Miscellaneousequipmentfurnishingswheelchocks   \n",
       "169                           Proceduresdirectives   \n",
       "386                               Planningdecision   \n",
       "670                       Unsafehazardouscondition   \n",
       "1552          Lackoftotalexperienceintypeoperation   \n",
       "1602                                        Object   \n",
       "1603                                     Clearance   \n",
       "1604              Identificationofaircraftvisually   \n",
       "1955                            Inadequatetraining   \n",
       "1956                           Procedureinadequate   \n",
       "2868             Airportfacilitiestaxiwaycondition   \n",
       "2869                              Aircrafthandling   \n",
       "2947                                 Visuallookout   \n",
       "\n",
       "                                   toID     count  \n",
       "168   Propellerblastorjetexhaustsuction  0.500000  \n",
       "169   Propellerblastorjetexhaustsuction  0.027586  \n",
       "386   Propellerblastorjetexhaustsuction  0.153846  \n",
       "670   Propellerblastorjetexhaustsuction  0.052632  \n",
       "1552  Propellerblastorjetexhaustsuction  0.333333  \n",
       "1602  Propellerblastorjetexhaustsuction  0.021277  \n",
       "1603  Propellerblastorjetexhaustsuction  0.022727  \n",
       "1604  Propellerblastorjetexhaustsuction  0.125000  \n",
       "1955  Propellerblastorjetexhaustsuction  0.090909  \n",
       "1956  Propellerblastorjetexhaustsuction  0.019231  \n",
       "2868  Propellerblastorjetexhaustsuction  0.111111  \n",
       "2869  Propellerblastorjetexhaustsuction  0.038462  \n",
       "2947  Propellerblastorjetexhaustsuction  0.014706  "
      ]
     },
     "execution_count": 329,
     "metadata": {},
     "output_type": "execute_result"
    }
   ],
   "source": [
    "df_edges[df_edges['toID'] == 'Propellerblastorjetexhaustsuction']"
   ]
  },
  {
   "cell_type": "code",
   "execution_count": 330,
   "metadata": {},
   "outputs": [
    {
     "data": {
      "text/plain": [
       "3146"
      ]
     },
     "execution_count": 330,
     "metadata": {},
     "output_type": "execute_result"
    }
   ],
   "source": [
    "len(dictEdges)"
   ]
  },
  {
   "cell_type": "code",
   "execution_count": 331,
   "metadata": {},
   "outputs": [
    {
     "data": {
      "text/plain": [
       "740"
      ]
     },
     "execution_count": 331,
     "metadata": {},
     "output_type": "execute_result"
    }
   ],
   "source": [
    "len(networkNodes)"
   ]
  },
  {
   "cell_type": "code",
   "execution_count": 332,
   "metadata": {},
   "outputs": [],
   "source": [
    "XDSL += nodeConstructor\n",
    "XDSL += extensions\n",
    "XDSL += '\\n</smile>'"
   ]
  },
  {
   "cell_type": "code",
   "execution_count": 333,
   "metadata": {},
   "outputs": [
    {
     "data": {
      "text/plain": [
       "5695978"
      ]
     },
     "execution_count": 333,
     "metadata": {},
     "output_type": "execute_result"
    }
   ],
   "source": [
    "### Write XDSL to file\n",
    "file = open(\"NTSB.xdsl\",\"w\")\n",
    "file.write(XDSL)\n",
    "\n",
    "#print (XDSL)"
   ]
  }
 ],
 "metadata": {
  "kernelspec": {
   "display_name": "Python 3",
   "language": "python",
   "name": "python3"
  },
  "language_info": {
   "codemirror_mode": {
    "name": "ipython",
    "version": 3
   },
   "file_extension": ".py",
   "mimetype": "text/x-python",
   "name": "python",
   "nbconvert_exporter": "python",
   "pygments_lexer": "ipython3",
   "version": "3.7.1"
  }
 },
 "nbformat": 4,
 "nbformat_minor": 2
}
